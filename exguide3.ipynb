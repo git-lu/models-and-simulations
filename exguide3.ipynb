{
 "cells": [
  {
   "cell_type": "markdown",
   "metadata": {},
   "source": [
    "## Imports"
   ]
  },
  {
   "cell_type": "code",
   "execution_count": 1,
   "metadata": {},
   "outputs": [],
   "source": [
    "import numpy as np\n",
    "from random import random,expovariate,randint\n",
    "import matplotlib.pyplot as plt\n",
    "from math import gcd\n",
    "from math import exp\n",
    "from sympy import factorint\n",
    "from sympy.ntheory.modular import solve_congruence\n",
    "from sympy.ntheory.residue_ntheory import is_primitive_root\n",
    "from sympy.ntheory.primetest import isprime\n",
    "from discreteVariablesMethods.randomIntGenerators import VonNeumann,CongruentialGenerator,MixedCongruentialGenerator\n",
    "from utilities.simulation import Simulation\n",
    "import monteCarlo.monteCarlo as monteCarlo\n",
    "%matplotlib inline"
   ]
  },
  {
   "cell_type": "markdown",
   "metadata": {
    "toc-hr-collapsed": true,
    "toc-nb-collapsed": true
   },
   "source": [
    "## Ejercicio 1\n",
    "Para el estudio mediante simulación es necesario generar muchos números aleatorios en lacomputadora.  Estos corresponden a variables aleatorias uniformemente distribuidas en el intervalo(0,1).Existen en la literatura varias rutinas portables, optimizadas para generar enormes cantidades de númerospseudo-aleatorios con velocidad razonable"
   ]
  },
  {
   "cell_type": "markdown",
   "metadata": {},
   "source": [
    "### a.  \n",
    "Calcular los diez primeros números de la secuencia de von Neumann a partir de la semilla:  \n",
    "i)  3792  \n",
    "ii)  1004  \n",
    "iii)  2100  \n",
    "iv)  1234"
   ]
  },
  {
   "cell_type": "code",
   "execution_count": 2,
   "metadata": {},
   "outputs": [
    {
     "output_type": "stream",
     "name": "stdout",
     "text": "These are the first 10 digits from using 3972 as seed:\n[3972, 7767, 3262, 6406, 368, 1354, 8333, 4388, 2545, 4770, 7529]\nThese are the first 10 digits from using 1004 as seed:\n[1004, 80, 64, 40, 16, 2, 0, 0, 0, 0, 0]\nThese are the first 10 digits from using 2100 as seed:\n[2100, 4100, 8100, 6100, 2100, 4100, 8100, 6100, 2100, 4100, 8100]\nThese are the first 10 digits from using 1234 as seed:\n[1234, 5227, 3215, 3362, 3030, 1809, 2724, 4201, 6484, 422, 1780]\n"
    }
   ],
   "source": [
    "n = 10\n",
    "seeds = [3972, 1004 ,2100, 1234]\n",
    "for seed in seeds:\n",
    "    vn = VonNeumann(seed).generateNSecuence(n)\n",
    "    print(\"These are the first {} digits from using {} as seed:\".format(n,seed))\n",
    "    print(vn.sequence)"
   ]
  },
  {
   "cell_type": "markdown",
   "metadata": {},
   "source": [
    "### b.  \n",
    "Calcular los diez primeros elementos de la secuencia generada por el generador congruencial: \n",
    "yi+1=5yi+4 mod(25)  \n",
    "para y0=4 y para y0=50. \n",
    "¿Cuál es el período de la secuencia en cada caso?"
   ]
  },
  {
   "cell_type": "code",
   "execution_count": 3,
   "metadata": {},
   "outputs": [
    {
     "output_type": "stream",
     "name": "stdout",
     "text": "The first 50 elements from random congruential generator with y0 = 4\n[4, 24, 28, 16, 20, 8, 12, 0, 4, 24, 28, 16, 20, 8, 12, 0, 4, 24, 28, 16, 20, 8, 12, 0, 4, 24, 28, 16, 20, 8, 12, 0, 4, 24, 28, 16, 20, 8, 12, 0, 4, 24, 28, 16, 20, 8, 12, 0, 4, 24, 28]\nThe first 50 elements from random congruential generator with y0 = 50\n[50, 30, 26, 6, 2, 14, 10, 22, 18, 30, 26, 6, 2, 14, 10, 22, 18, 30, 26, 6, 2, 14, 10, 22, 18, 30, 26, 6, 2, 14, 10, 22, 18, 30, 26, 6, 2, 14, 10, 22, 18, 30, 26, 6, 2, 14, 10, 22, 18, 30, 26]\n"
    }
   ],
   "source": [
    "a = 5; c = 4; M = 2**5 ; n=50; \n",
    "seeds = [4,50]\n",
    "for seed in seeds:\n",
    "    gen = MixedCongruentialGenerator(a=a,moduli=M,seed=seed,c=c)\n",
    "    sequence = (gen.generateNSecuence(n).sequence)\n",
    "    print(\"The first {} elements from random congruential generator with y0 = {}\".format(n,seed))\n",
    "    print(sequence)"
   ]
  },
  {
   "cell_type": "markdown",
   "metadata": {},
   "source": [
    "### c.  \n",
    "Indicar en cuáles de los siguientes casos el generador yi+1 =a yi+ c mod(M) genera  una  secuencia  de  período  máximo.   Puede  utilizar  resultados  teóricos  o  implementarlo  en Python y calcular el período de la secuencia.  \n",
    "- a=125,c=3,M=29  \n",
    "- a=123,c=3,M=29  \n",
    "- a=5,c=0,M=71  \n",
    "- a=7,c=0,M=71   "
   ]
  },
  {
   "cell_type": "markdown",
   "metadata": {},
   "source": [
    "Un generador mixto (c != 0) genera una secuencia de periodo maximo si:\n",
    "- mcd(c,M) = 1 (c y M coprimos)\n",
    "- a es congruente a 1 modulo p para cualquier factor primo p de M ()\n",
    "- Si 4|M entonces a es congruente a 1 modulo 4  \n",
    "\n",
    "La longitud K de la secuencia de un generador multiplicativo (c == 0) cumple las siguientes propiedades:\n",
    "- si K = M - 1, entonces M es primo\n",
    "- K divide a M - 1\n",
    "- K = M - 1 sii a es raiz primitiva de M y M es primo"
   ]
  },
  {
   "cell_type": "code",
   "execution_count": 10,
   "metadata": {},
   "outputs": [
    {
     "output_type": "stream",
     "name": "stdout",
     "text": "The generator with parameters a:7 c:0 M:71 generates a max period sequence\nThe generator with parameters a:125 c:3 M:512 generates a max period sequence\n"
    }
   ],
   "source": [
    "args = [(5,71),(7,71)]\n",
    "for arg in args:\n",
    "    a = arg[0]\n",
    "    m = arg[1]\n",
    "    result = (CongruentialGenerator(a=a,moduli=m,seed=1).maxSequence)\n",
    "    if result:\n",
    "        print(\"The generator with parameters a:{} c:{} M:{} generates a max period sequence\".format(a,0,m))\n",
    "\n",
    "args = [(125,3,2**9),(123,3,2**9)]\n",
    "for arg in args:\n",
    "    a = arg[0]\n",
    "    c = arg[1]\n",
    "    m = arg[2]\n",
    "    \n",
    "    result = (MixedCongruentialGenerator(a=arg[0],moduli=arg[2],c=arg[1],seed=1).maxSequence)\n",
    "    if result:\n",
    "            print(\"The generator with parameters a:{} c:{} M:{} generates a max period sequence\".format(a,c,m))\n"
   ]
  },
  {
   "cell_type": "code",
   "execution_count": 11,
   "metadata": {},
   "outputs": [
    {
     "output_type": "error",
     "ename": "IndexError",
     "evalue": "tuple index out of range",
     "traceback": [
      "\u001b[0;31m---------------------------------------------------------------------------\u001b[0m",
      "\u001b[0;31mIndexError\u001b[0m                                Traceback (most recent call last)",
      "\u001b[0;32m<ipython-input-11-92fb0af2a382>\u001b[0m in \u001b[0;36m<module>\u001b[0;34m\u001b[0m\n\u001b[1;32m      7\u001b[0m     \u001b[0mresult\u001b[0m \u001b[0;34m=\u001b[0m \u001b[0;34m(\u001b[0m\u001b[0mMixedCongruentialGenerator\u001b[0m\u001b[0;34m(\u001b[0m\u001b[0ma\u001b[0m\u001b[0;34m=\u001b[0m\u001b[0marg\u001b[0m\u001b[0;34m[\u001b[0m\u001b[0;36m0\u001b[0m\u001b[0;34m]\u001b[0m\u001b[0;34m,\u001b[0m\u001b[0mmoduli\u001b[0m\u001b[0;34m=\u001b[0m\u001b[0marg\u001b[0m\u001b[0;34m[\u001b[0m\u001b[0;36m2\u001b[0m\u001b[0;34m]\u001b[0m\u001b[0;34m,\u001b[0m\u001b[0mc\u001b[0m\u001b[0;34m=\u001b[0m\u001b[0marg\u001b[0m\u001b[0;34m[\u001b[0m\u001b[0;36m1\u001b[0m\u001b[0;34m]\u001b[0m\u001b[0;34m,\u001b[0m\u001b[0mseed\u001b[0m\u001b[0;34m=\u001b[0m\u001b[0;36m1\u001b[0m\u001b[0;34m)\u001b[0m\u001b[0;34m.\u001b[0m\u001b[0mmaxSequence\u001b[0m\u001b[0;34m)\u001b[0m\u001b[0;34m\u001b[0m\u001b[0;34m\u001b[0m\u001b[0m\n\u001b[1;32m      8\u001b[0m     \u001b[0;32mif\u001b[0m \u001b[0mresult\u001b[0m\u001b[0;34m:\u001b[0m\u001b[0;34m\u001b[0m\u001b[0;34m\u001b[0m\u001b[0m\n\u001b[0;32m----> 9\u001b[0;31m             \u001b[0mprint\u001b[0m\u001b[0;34m(\u001b[0m\u001b[0;34m\"The generator with parameters a:{} c:{} M:{} generates a max period sequence\"\u001b[0m\u001b[0;34m.\u001b[0m\u001b[0mformat\u001b[0m\u001b[0;34m(\u001b[0m\u001b[0ma\u001b[0m\u001b[0;34m,\u001b[0m\u001b[0;36m0\u001b[0m\u001b[0;34m,\u001b[0m\u001b[0;34m)\u001b[0m\u001b[0;34m)\u001b[0m\u001b[0;34m\u001b[0m\u001b[0;34m\u001b[0m\u001b[0m\n\u001b[0m",
      "\u001b[0;31mIndexError\u001b[0m: tuple index out of range"
     ]
    }
   ],
   "source": [
    "args = [(i,13,64) for i in range(10)]\n",
    "for arg in args:\n",
    "    a = arg[0]\n",
    "    c = arg[1]\n",
    "    m = arg[2]\n",
    "    \n",
    "    result = (MixedCongruentialGenerator(a=arg[0],moduli=arg[2],c=arg[1],seed=1).maxSequence)\n",
    "    if result:\n",
    "            print(\"The generator with parameters a:{} c:{} M:{} generates a max period sequence\".format(a,0,m))\n"
   ]
  },
  {
   "cell_type": "markdown",
   "metadata": {},
   "source": [
    "### d."
   ]
  },
  {
   "cell_type": "markdown",
   "metadata": {
    "toc-hr-collapsed": true,
    "toc-nb-collapsed": true
   },
   "source": [
    "## Ejercicio 2\n",
    "Se propone el siguiente juego en el cual todas las variables aleatorias que se generan son **independientese  idénticamente  distribuidas U(0,1)**:  \n",
    "Se  simula  la  variable  aleatoria U. Si U < 1/2, se suman  dos  nuevos  números  aleatorios W1+W2.\n",
    "Pero  si U ≥ 1/2,  se  suman  tres  números  aleatorios. **El resultado de la suma, en cualquiera de los casos, es una variable aleatoria X**. Se gana en el juego siX ≥ 1 .\n",
    "- a)  ¿Cuál es la probabilidad de ganar?.\n",
    "- b)  La probabilidad de ganar, ¿Es independiente de U?.\n",
    "- c)  Implementar un algoritmo en computadora que estime la probabilidad de ganar, esto es, la fracciónde veces que se gana ennrealizaciones del juego. Completar la siguiente tabla:\n"
   ]
  },
  {
   "cell_type": "code",
   "execution_count": 5,
   "metadata": {},
   "outputs": [
    {
     "output_type": "stream",
     "name": "stdout",
     "text": "Playing the game 10000.0 times resulted on a 0.6635 probability of winning\nPlaying the game 100000.0 times resulted on a 0.66622 probability of winning\nPlaying the game 1000000.0 times resulted on a 0.666049 probability of winning\n"
    }
   ],
   "source": [
    "def exercise2Game():\n",
    "    u = random()\n",
    "    x = 0\n",
    "    if u < 0.5:\n",
    "        x = random() + random()\n",
    "    else:\n",
    "        x = random() + random() + random()\n",
    "    return x > 1 \n",
    "\n",
    "N = [10e3,10e4,10e5]\n",
    "results = []\n",
    "ex2Simulation = Simulation(exercise2Game)\n",
    "for n in N:\n",
    "    mean = ex2Simulation.simulate(int(n)).estimatedMean\n",
    "    print(\"Playing the game {} times resulted on a {} probability of winning\".format(n,mean))\n",
    "    ex2Simulation.resetResults()\n",
    "    "
   ]
  },
  {
   "cell_type": "markdown",
   "metadata": {
    "toc-hr-collapsed": true,
    "toc-nb-collapsed": true
   },
   "source": [
    "## Ejercicio 3\n",
    "\n",
    "Las maquinas tragamonedas usualmente generan un premio cuando hay un acierto. Supongamos que se genera el acierto con el siguiente esquema: se genera un número aleatorio, y  \n",
    "i)  si es menor a un tercio, se suman dos nuevos números aleatorios  \n",
    "ii)  si es mayor o igual a un tercio, se suman tres números aleatorios"
   ]
  },
  {
   "cell_type": "code",
   "execution_count": 8,
   "metadata": {},
   "outputs": [
    {
     "output_type": "stream",
     "name": "stdout",
     "text": "Playing the game 10000.0 times resulted on a 0.8885 probability of winning\nPlaying the game 100000.0 times resulted on a 0.88858 probability of winning\nPlaying the game 1000000.0 times resulted on a 0.888699 probability of winning\n"
    }
   ],
   "source": [
    "def exercise3Game():\n",
    "    u = random()\n",
    "    x = 0\n",
    "    if u < 1/3:\n",
    "        x = random() + random()\n",
    "    else:\n",
    "        x = random() + random() + random()\n",
    "    return x <= 2\n",
    "    \n",
    "N = [10e3,10e4,10e5]\n",
    "results = []\n",
    "ex3Simulation = Simulation(exercise3Game)\n",
    "for n in N:\n",
    "    mean = ex3Simulation.simulate(int(n)).estimatedMean\n",
    "    print(\"Playing the game {} times resulted on a {} probability of winning\".format(n,mean))\n",
    "    ex2Simulation.resetResults()\n",
    "    "
   ]
  },
  {
   "cell_type": "markdown",
   "metadata": {
    "toc-hr-collapsed": true,
    "toc-nb-collapsed": true
   },
   "source": [
    "## Ejercicio 4\n",
    "Un supermercado posee de 3 cajas, de los cuales, por una cuestión de ubicación, el 40% de los clientes eligen la caja 1 para pagar, el 32% la caja 2, y el 28% la caja 3. El tiempo que espera una personapara ser atendido en cada caja distribuye exponencial con medias 3, 4 y 5 minutos respectivamente.\n",
    "- a)¿Cuál es la probabilidad de que un cliente espere menos de 4 minutos para ser atendido?\n",
    "- b) Si el cliente tuvo que esperar más de 4 minutos.¿Cuál es la probabilidad de que el cliente hayaelegido cada una de las cajas?\n",
    "- c) Simule el problema y estime las probabilidades anteriores con 1000 iteraciones"
   ]
  },
  {
   "cell_type": "code",
   "execution_count": 7,
   "metadata": {},
   "outputs": [
    {
     "output_type": "execute_result",
     "data": {
      "text/plain": "0.6510276136260258"
     },
     "metadata": {},
     "execution_count": 7
    }
   ],
   "source": [
    "def FWaitingTime(x):\n",
    "    box1 = 0.40 * (1 - exp((-1/3)*x))\n",
    "    box2 = 0.32 * (1 - exp((-1/4)*x))\n",
    "    box3 = 0.28 * (1 - exp((-1/5)*x))\n",
    "    return box1 + box2 + box3\n",
    "\n",
    "FWaitingTime(4)    "
   ]
  },
  {
   "cell_type": "code",
   "execution_count": 7,
   "metadata": {},
   "outputs": [
    {
     "output_type": "execute_result",
     "data": {
      "text/plain": "1.8130032299428671"
     },
     "metadata": {},
     "execution_count": 7
    }
   ],
   "source": [
    "(1-(0.32 * (1 - exp((-1/4)*4))))/0.44"
   ]
  },
  {
   "cell_type": "code",
   "execution_count": 8,
   "metadata": {},
   "outputs": [
    {
     "output_type": "stream",
     "name": "stdout",
     "text": "0.30214096978234195\n0.33733735324463776\n0.36052167697302057\n"
    }
   ],
   "source": [
    "# Probability of having chose box i if the waiting time was more than 4 minutes\n",
    "#\n",
    "probOfWaitingLessThan4Minutes = 1 - FWaitingTime(4)\n",
    "probBox1Given4MinuteWait = (0.40 * exp((-1/3)*4))/(probOfWaitingLessThan4Minutes)\n",
    "probBox2Given4MinuteWait = (0.32 * exp((-1/4)*4))/(probOfWaitingLessThan4Minutes)\n",
    "probBox3Given4MinuteWait = (0.28 * exp((-1/5)*4))/(probOfWaitingLessThan4Minutes)\n",
    "\n",
    "print(probBox1Given4MinuteWait)\n",
    "print(probBox2Given4MinuteWait)\n",
    "print(probBox3Given4MinuteWait)"
   ]
  },
  {
   "cell_type": "markdown",
   "metadata": {},
   "source": [
    "\n",
    "### c"
   ]
  },
  {
   "cell_type": "code",
   "execution_count": 10,
   "metadata": {},
   "outputs": [],
   "source": [
    "def boxWaitingTime(exponentialDitributionLambda):\n",
    "    return expovariate(exponentialDitributionLambda)\n",
    "\n",
    "def supermarketSim():\n",
    "    box1Chance = 0.4\n",
    "    box2Chance = box1Chance + 0.32\n",
    "    box3Chance = box2Chance + 0.28\n",
    "    u = random()\n",
    "    waitingTime = 0\n",
    "    boxPicked = 0\n",
    "\n",
    "    if u < box1Chance:\n",
    "        waitingTime = boxWaitingTime(1/3)\n",
    "        boxPicked = 1\n",
    "    elif u < box2Chance:\n",
    "        waitingTime = boxWaitingTime(1/4)\n",
    "        boxPicked = 2\n",
    "    elif u > box2Chance:\n",
    "        waitingTime = boxWaitingTime(1/5)\n",
    "        boxPicked = 3\n",
    "    return (waitingTime,boxPicked)\n",
    "\n"
   ]
  },
  {
   "cell_type": "code",
   "execution_count": 11,
   "metadata": {},
   "outputs": [
    {
     "output_type": "stream",
     "name": "stdout",
     "text": "The probability of having picked box 2 if the wait was over 4 minutes is 0.3278\nThe probability of having picked box 1 if the wait was over 4 minutes is 0.3031\nThe probability of having picked box 3 if the wait was over 4 minutes is 0.3691\nIn 10000 times going to the supermarket 64.03999999999999% waited less than 4 minutes\nIn 10000 times going to the supermarket the average waiting time was 3.977896864880843\n"
    }
   ],
   "source": [
    "from collections import defaultdict\n",
    "N = 10000\n",
    "res = 0\n",
    "totalWaitTime = 0\n",
    "boxPickedCounts = defaultdict(int)\n",
    "over4secondsWaitTotal = 0\n",
    "for _ in range(N):\n",
    "    waitingTime,boxPicked = supermarketSim()\n",
    "    totalWaitTime += waitingTime\n",
    "    if waitingTime <= 4:\n",
    "        res += 1\n",
    "        \n",
    "while over4secondsWaitTotal < N:\n",
    "    waitingTime,boxPicked = supermarketSim()\n",
    "    if waitingTime >= 4:\n",
    "        over4secondsWaitTotal +=1\n",
    "        boxPickedCounts[boxPicked]+=1\n",
    "\n",
    "for box,n in boxPickedCounts.items():\n",
    "    print(\"The probability of having picked box {} if the wait was over 4 minutes is {}\".format(box,n/N))\n",
    "    \n",
    "print(\"In {} times going to the supermarket {}% waited less than 4 minutes\".format(N,(res/N)*100))\n",
    "print(\"In {} times going to the supermarket the average waiting time was {}\".format(N,totalWaitTime/N))"
   ]
  },
  {
   "cell_type": "markdown",
   "metadata": {
    "toc-hr-collapsed": true,
    "toc-nb-collapsed": true
   },
   "source": [
    "## Ejercicio 5\n",
    "Calcule exactamente el valor de las siguientes integrales. Mediante una simulación de MonteCarlo con n iteraciones, calcule a su vez un valor aproximado y compare con el valor exacto.\n",
    "\n",
    "![](images/ej5p3.jpg)"
   ]
  },
  {
   "cell_type": "code",
   "execution_count": 16,
   "metadata": {},
   "outputs": [
    {
     "output_type": "execute_result",
     "data": {
      "text/plain": "0.5860565807867752"
     },
     "metadata": {},
     "execution_count": 16
    }
   ],
   "source": [
    "a = lambda u: (1 - u ** 2) ** (1.5)\n",
    "monteCarlo.monteCarlo01(a,1000)"
   ]
  },
  {
   "cell_type": "code",
   "execution_count": 17,
   "metadata": {},
   "outputs": [
    {
     "output_type": "execute_result",
     "data": {
      "text/plain": "0.5133312538250152"
     },
     "metadata": {},
     "execution_count": 17
    }
   ],
   "source": [
    "b = lambda u: (u*(1+u**2)**(-2))\n",
    "monteCarlo.monteCarlo0Infinite(b,1000)"
   ]
  },
  {
   "cell_type": "code",
   "execution_count": 20,
   "metadata": {},
   "outputs": [
    {
     "output_type": "execute_result",
     "data": {
      "text/plain": "1.7544227943885027"
     },
     "metadata": {},
     "execution_count": 20
    }
   ],
   "source": [
    "c = lambda u: exp(-u**2) \n",
    "monteCarlo.monteCarloInfInf(c,1000,isEven=True)"
   ]
  },
  {
   "cell_type": "code",
   "execution_count": 21,
   "metadata": {},
   "outputs": [],
   "source": [
    "def monteCarloMulti(g,nSim):\n",
    "    integral = 0\n",
    "    for _ in range(nSim):\n",
    "        integral += g(random(),random())\n",
    "    return integral/nSim"
   ]
  },
  {
   "cell_type": "code",
   "execution_count": 22,
   "metadata": {},
   "outputs": [],
   "source": [
    "d = lambda u,v: exp((u+v)**2)"
   ]
  },
  {
   "cell_type": "code",
   "execution_count": 23,
   "metadata": {},
   "outputs": [
    {
     "output_type": "execute_result",
     "data": {
      "text/plain": "4.897193213202699"
     },
     "metadata": {},
     "execution_count": 23
    }
   ],
   "source": [
    "monteCarloMulti(d,10000000)"
   ]
  },
  {
   "cell_type": "markdown",
   "metadata": {},
   "source": [
    "### e"
   ]
  },
  {
   "cell_type": "code",
   "execution_count": 70,
   "metadata": {},
   "outputs": [],
   "source": [
    "def I(x,y):\n",
    "    return y < x\n",
    "\n",
    "def monteCarloE(g,nSim):\n",
    "    integral = 0\n",
    "    for _ in range(nSim):\n",
    "        u,v = random(),random()\n",
    "        u_value,v_value = 1/u-1,1/v-1\n",
    "        integral += I(u_value,v_value) * g(u_value,v_value) / ((u**2)*(v**2))\n",
    "    return integral/nSim\n",
    "        \n",
    "def e(u,v):\n",
    "    return exp(-(u+v))"
   ]
  },
  {
   "cell_type": "code",
   "execution_count": 74,
   "metadata": {},
   "outputs": [
    {
     "data": {
      "text/plain": [
       "0.5306382407378565"
      ]
     },
     "execution_count": 74,
     "metadata": {},
     "output_type": "execute_result"
    }
   ],
   "source": [
    "monteCarloE(e,1000)"
   ]
  },
  {
   "cell_type": "markdown",
   "metadata": {
    "toc-hr-collapsed": true,
    "toc-nb-collapsed": true
   },
   "source": [
    "## Ejercicio 6 \n",
    "\n",
    "Para U1,U2,... variables aleatorias uniformemente distribuídas en el intervalo (0,1), se define: N=Mínimo{n:n∑i=1Ui>1}  \n",
    "Es decir,N es igual a la cantidad de números aleatorios que deben sumarse para exceder a 1.\n",
    "\n",
    "- a)  Estimar E[N]generandonvalores de N y completar la siguiente  \n",
    "- b)  Calcular el valor exacto de E[N]."
   ]
  },
  {
   "cell_type": "code",
   "execution_count": 29,
   "metadata": {},
   "outputs": [],
   "source": [
    "def simulationEx6():\n",
    "    s = 0\n",
    "    N = 0\n",
    "    n = 0\n",
    "    while s < 1:\n",
    "        s += random()\n",
    "        n += 1\n",
    "    N += n\n",
    "    return N"
   ]
  },
  {
   "cell_type": "code",
   "execution_count": 30,
   "metadata": {},
   "outputs": [
    {
     "output_type": "stream",
     "name": "stdout",
     "text": "simulating 100.0 times resulted on an average of 2.77 variables\nsimulating 1000.0 times resulted on an average of 2.719 variables\nsimulating 10000.0 times resulted on an average of 2.7145 variables\nsimulating 100000.0 times resulted on an average of 2.71068 variables\n"
    }
   ],
   "source": [
    "simEx6 = Simulation(simulationEx6)\n",
    "Ns = [10e1,10e2,10e3, 10e4]\n",
    "results = []\n",
    "for N in Ns:\n",
    "    mean = simEx6.simulate(int(N)).estimatedMean \n",
    "    print(\"simulating {} times resulted on an average of {} variables\".format(N,mean))\n",
    "    simEx6.resetResults()"
   ]
  },
  {
   "cell_type": "markdown",
   "metadata": {
    "toc-hr-collapsed": true,
    "toc-nb-collapsed": true
   },
   "source": [
    "## Ejercicio 7\n",
    "\n",
    "Para U1,U2,...números aleatorios, se define:  \n",
    "N=Máximo{n:n∏i=1Ui≥e−3}donde:0∏i=1Ui=1. \n",
    "- a) Mediante n simulaciones determinar la tabla de siempre\n",
    "- b) P(N=i)parai=0,1,2,3,4,5,6, usando n=1000000."
   ]
  },
  {
   "cell_type": "code",
   "execution_count": 116,
   "metadata": {},
   "outputs": [],
   "source": [
    "def simulationEx7(i,nSim):\n",
    "    s = 0\n",
    "    N = 0\n",
    "    eqToiSum = 0\n",
    "    maxN = 0\n",
    "    for _ in range(int(nSim)):\n",
    "        s = random()\n",
    "        n = 0\n",
    "        while s >= exp(-3):\n",
    "            s *= random()\n",
    "            n += 1\n",
    "        if (n == i):\n",
    "            eqToiSum += 1\n",
    "        if n>maxN:\n",
    "            maxN = n\n",
    "        N += n\n",
    "    return N/nSim, eqToiSum/N, maxN"
   ]
  },
  {
   "cell_type": "markdown",
   "metadata": {},
   "source": [
    "### a"
   ]
  },
  {
   "cell_type": "code",
   "execution_count": 118,
   "metadata": {},
   "outputs": [
    {
     "name": "stdout",
     "output_type": "stream",
     "text": [
      "The max number of variables such as their product is >= e**(-3) is 7\n",
      "simulating 100.0 times resulted on an average of 2.92 variables\n",
      "The max number of variables such as their product is >= e**(-3) is 10\n",
      "simulating 1000.0 times resulted on an average of 3.035 variables\n",
      "The max number of variables such as their product is >= e**(-3) is 11\n",
      "simulating 10000.0 times resulted on an average of 2.9801 variables\n",
      "The max number of variables such as their product is >= e**(-3) is 14\n",
      "simulating 100000.0 times resulted on an average of 3.00544 variables\n",
      "The max number of variables such as their product is >= e**(-3) is 14\n",
      "simulating 1000000.0 times resulted on an average of 2.999996 variables\n"
     ]
    }
   ],
   "source": [
    "Ns = [10e1,10e2,10e3, 10e4,10e5]\n",
    "results = []\n",
    "for N in Ns:\n",
    "    res, i, maxN = simulationEx7(0,N) \n",
    "    results.append(res)\n",
    "    print(\"The max number of variables such as their product is >= e**(-3) is {}\".format(maxN))\n",
    "    print(\"simulating {} times resulted on an average of {} variables\".format(N,res))"
   ]
  },
  {
   "cell_type": "markdown",
   "metadata": {},
   "source": [
    "### b "
   ]
  },
  {
   "cell_type": "code",
   "execution_count": 120,
   "metadata": {},
   "outputs": [
    {
     "name": "stdout",
     "output_type": "stream",
     "text": [
      "P(N = 0) is 0.01661785470599103 \n",
      "P(N = 1) is 0.04971104853245043 \n",
      "P(N = 2) is 0.07485427760158567 \n",
      "P(N = 3) is 0.07469730747842694 \n",
      "P(N = 4) is 0.05616989649765116 \n",
      "P(N = 5) is 0.03364235461483669 \n",
      "P(N = 6) is 0.016865472365274293 \n"
     ]
    }
   ],
   "source": [
    "Is = [0,1,2,3,4,5,6]\n",
    "n = 10e5\n",
    "for i in Is:\n",
    "    res , P, maxN = simulationEx7(i,N) \n",
    "    results.append(res)\n",
    "    print(\"P(N = {}) is {} \".format(i,P))"
   ]
  },
  {
   "cell_type": "markdown",
   "metadata": {},
   "source": [
    "## Ejercicio 8\n",
    "\n",
    "Un juego consiste en dos pasos.  En el primer paso se tira un dado convencional.  Si sale 1 o 6 tira un nuevo dado y se le otorga al jugador como puntaje el doble del resultado obtenido en esta nueva tirada; pero si sale 2, 3, 4 o 5 en la primer tirada, el jugador debería tirar dos nuevos dados, y recibiría como puntaje la suma de los dados. Si el puntaje del jugador excede los 6 puntos entonces gana."
   ]
  },
  {
   "cell_type": "code",
   "execution_count": 37,
   "metadata": {},
   "outputs": [],
   "source": [
    "def exercise8GameResult():\n",
    "    dice = randint(1,6)\n",
    "    if dice in [1,6]:\n",
    "        score = randint(1,6)*2\n",
    "    else:\n",
    "        score = randint(1,6) + randint(1,6)\n",
    "    return score > 6"
   ]
  },
  {
   "cell_type": "code",
   "execution_count": 39,
   "metadata": {},
   "outputs": [
    {
     "output_type": "stream",
     "name": "stdout",
     "text": "The player won in 0.5603% of games\n"
    }
   ],
   "source": [
    "ex8sim = Simulation(exercise8GameResult)\n",
    "nSim = 10000\n",
    "mean = ex8sim.simulate(nSim).estimatedMean\n",
    "print(\"The player won in {}% of games\".format((mean)))"
   ]
  },
  {
   "cell_type": "code",
   "execution_count": null,
   "metadata": {},
   "outputs": [],
   "source": []
  }
 ],
 "metadata": {
  "kernelspec": {
   "display_name": "Python 3",
   "language": "python",
   "name": "python3"
  },
  "language_info": {
   "codemirror_mode": {
    "name": "ipython",
    "version": 3
   },
   "file_extension": ".py",
   "mimetype": "text/x-python",
   "name": "python",
   "nbconvert_exporter": "python",
   "pygments_lexer": "ipython3",
   "version": "3.7.4-final"
  }
 },
 "nbformat": 4,
 "nbformat_minor": 4
}