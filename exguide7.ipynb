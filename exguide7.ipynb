{
 "cells": [
  {
   "cell_type": "code",
   "execution_count": 1,
   "metadata": {},
   "outputs": [],
   "source": [
    "import numpy as np\n",
    "from scipy.stats import chi2\n",
    "from scipy.stats import binom\n",
    "from random import random\n",
    "from hypTest.pearson import PearsonTest"
   ]
  },
  {
   "cell_type": "markdown",
   "metadata": {},
   "source": [
    "## Ej1"
   ]
  },
  {
   "cell_type": "markdown",
   "metadata": {},
   "source": [
    "De acuerdo con la teoría genética de Mendel, cierta planta de guisantes debe producir floresblancas, rosas o rojas con probabilidad 1/4, 1/2 y 1/4, respectivamente. Para verificar experimentalmente la teoría, se estudió una muestra de 564 guisantes, donde se encontró que 141 produjeron flores blancas,291 flores rosas y 132 flores rojas. Aproximar el p-valor de esta muestra:\n",
    "\n",
    "\n",
    "a)  utilizando la prueba de Pearson con aproximación chi-cuadrada  \n",
    "\n",
    "b)  realizando una simulación."
   ]
  },
  {
   "cell_type": "markdown",
   "metadata": {},
   "source": [
    "El estadistico para el test chi-cuadrado de Pearson está dado por: \n",
    "$$T = \\sum_{i=1}^{k}\\cfrac{(N_{i}-np_{i})^{2}}{np_{i}}$$\n",
    "\n",
    "donde $n$ es el tamaño de la muestra, $N_{i}$ son las frecuencias observadas y $p_{i}$ son las probabilidades teoricas. Si $T=t$ es el valor del estadistico, el p-valor es:\n",
    "$$P_{H_{0}}(T \\ge t) = P(\\chi_{k-1} \\ge t)$$\n",
    "\n",
    "**H0**: La muestra se condice con la teoria genética de Mendel"
   ]
  },
  {
   "cell_type": "code",
   "execution_count": 4,
   "metadata": {},
   "outputs": [
    {
     "name": "stdout",
     "output_type": "stream",
     "text": [
      "Estadistico T:  0.8617021276595745\n",
      "p-valor con chi2:  0.6499557054800363\n",
      "p-valor con simulación:  0.646\n"
     ]
    }
   ],
   "source": [
    "nSim = 1000\n",
    "Ni = [141, 291, 132]\n",
    "pi = [0.25, 0.5, 0.25]\n",
    "k = 3\n",
    "pearson = PearsonTest(Ni,pi,k)\n",
    "print('Estadistico T: ', pearson.t)\n",
    "print('p-valor con chi2: ', pearson.p_value_chi2())\n",
    "print('p-valor con simulación: ', pearson.p_value_sim(nSim))\n"
   ]
  },
  {
   "cell_type": "markdown",
   "metadata": {},
   "source": [
    "## Ej2"
   ]
  },
  {
   "cell_type": "markdown",
   "metadata": {},
   "source": [
    "Para verificar que cierto dado no estaba trucado, se registraron 1000 lanzamientos, resultando que el número de veces que el dado arrojó el valor $i (i=1,2,3,4,5,6)$ fue, respectivamente, 158, 172, 164,181, 160, 165. Aproximar el p−valor de la prueba: “el dado es honesto”\n",
    "\n",
    "a)  utilizando la prueba de Pearson con aproximación chi-cuadrada\n",
    "\n",
    "b)  realizando una simulación."
   ]
  },
  {
   "cell_type": "code",
   "execution_count": 7,
   "metadata": {},
   "outputs": [
    {
     "name": "stdout",
     "output_type": "stream",
     "text": [
      "Estadistico T:  2.18\n",
      "p-valor con chi2:  0.8237195392577814\n",
      "p-valor con simulación:  0.848\n"
     ]
    }
   ],
   "source": [
    "from hypTest.pearson import PearsonTest\n",
    "nSim = 1000\n",
    "Ni = [158, 172, 164,181, 160, 165]\n",
    "pi = [1/6]*6\n",
    "k = 6\n",
    "pearson = PearsonTest(Ni,pi,k)\n",
    "print('Estadistico T: ', pearson.t)\n",
    "print('p-valor con chi2: ', pearson.p_value_chi2())\n",
    "print('p-valor con simulación: ', pearson.p_value_sim(nSim))\n"
   ]
  },
  {
   "cell_type": "markdown",
   "metadata": {},
   "source": [
    "# Ej3"
   ]
  },
  {
   "cell_type": "markdown",
   "metadata": {},
   "source": [
    "Calcular  una  aproximación  del p−valor  de  la  hipótesis:  “Los  siguientes  10  números  son aleatorios”:0.12, 0.18, 0.06, 0.33, 0.72, 0.83, 0.36, 0.27, 0.77, 0.74."
   ]
  },
  {
   "cell_type": "markdown",
   "metadata": {},
   "source": [
    "Para calcular el p-valor de esta hipótesis debemos utilizar algun método apropiado para muestras continuas Vamos a utlizar el test de **Kolmorov-Smirnov**. \n",
    "En este caso, como sabemos el valor de los parametros de la distribución (ya que la distribución no tiene parámetros), estamos en el caso de **parametros especificados**\n",
    "\n",
    "\n",
    "Consideramos nuestra muestra\n",
    "$$X_{1}= 0.12, X_{2}=0.18,X_{3}= 0.06,X_{4}= 0.33,X_{5}= 0.72, \\\\\n",
    "X_{6}= 0.83,X_{7}= 0.36,X_{8}=0.27,X_{9}= 0.77,X_{10}=0.74$$\n",
    "\n",
    "\n",
    "donde asumimos que los $X_{i}$ son independientes\n",
    " y nuestra hipotesis nula está dada por:\n",
    "\n",
    "\n",
    "$$H_{0}: \\text{los datos provienen de una distribucion uniforme continua}$$"
   ]
  },
  {
   "cell_type": "markdown",
   "metadata": {},
   "source": [
    "En primer lugar, **ordenamos los datos de menor a mayor** y con $X_{(j)}$ denotamos al dato que ocupa el $j$-ésimo lugar luego del ordenamiento. Luego, consideramos la distribución empírica de los datos \n",
    "\n",
    "$$\n",
    "F_{e} = \\cfrac{\\# \\{ j| X_{j} \\le x \\} }{n}\n",
    "$$\n",
    "\n",
    "El test de **Kolmorov-Smirnov** compara la distribución empírica de los datos con la distribución F (uniforme en este caso), estimando la distancia máxima entre los gráficos. Así, el **estadístico** está dado por: \n",
    "\n",
    "\n",
    "$$\n",
    "\\begin{align}\n",
    "D &= sup_{x \\in \\mathbb{R}} |F_{e}(x)-F(x)|\\\\\n",
    "  &= max_{1\\le j \\le n} \\left\\{ \\frac jn -  F(X_{(j)}), F(X_{(j)}) - \\frac{j-1}{n}\\right\\}\n",
    "\\end{align}\n",
    "$$"
   ]
  },
  {
   "cell_type": "code",
   "execution_count": null,
   "metadata": {},
   "outputs": [],
   "source": []
  }
 ],
 "metadata": {
  "kernelspec": {
   "display_name": "Python 3",
   "language": "python",
   "name": "python3"
  },
  "language_info": {
   "codemirror_mode": {
    "name": "ipython",
    "version": 3
   },
   "file_extension": ".py",
   "mimetype": "text/x-python",
   "name": "python",
   "nbconvert_exporter": "python",
   "pygments_lexer": "ipython3",
   "version": "3.8.2"
  }
 },
 "nbformat": 4,
 "nbformat_minor": 4
}
