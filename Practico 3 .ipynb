{
 "cells": [
  {
   "cell_type": "markdown",
   "metadata": {},
   "source": [
    "## Imports"
   ]
  },
  {
   "cell_type": "code",
   "execution_count": 3,
   "metadata": {},
   "outputs": [],
   "source": [
    "import numpy as np\n",
    "from random import random,expovariate,randint\n",
    "import matplotlib.pyplot as plt\n",
    "from math import gcd\n",
    "from math import exp\n",
    "from sympy import factorint\n",
    "from sympy.ntheory.modular import solve_congruence\n",
    "from sympy.ntheory.residue_ntheory import is_primitive_root\n",
    "from sympy.ntheory.primetest import isprime\n",
    "%matplotlib inline"
   ]
  },
  {
   "cell_type": "markdown",
   "metadata": {
    "toc-hr-collapsed": true,
    "toc-nb-collapsed": true
   },
   "source": [
    "## Ejercicio 1\n",
    "Para el estudio mediante simulación es necesario generar muchos números aleatorios en lacomputadora.  Estos corresponden a variables aleatorias uniformemente distribuidas en el intervalo(0,1).Existen en la literatura varias rutinas portables, optimizadas para generar enormes cantidades de númerospseudo-aleatorios con velocidad razonable"
   ]
  },
  {
   "cell_type": "markdown",
   "metadata": {},
   "source": [
    "### a.  \n",
    "Calcular los diez primeros números de la secuencia de von Neumann a partir de la semilla:  \n",
    "i)  3792  \n",
    "ii)  1004  \n",
    "iii)  2100  \n",
    "iv)  1234"
   ]
  },
  {
   "cell_type": "code",
   "execution_count": 2,
   "metadata": {},
   "outputs": [],
   "source": [
    "##generador de von Neumann\n",
    "def vonNeumann(u):\n",
    "    'u debe ser un entero de hasta 4 cifras'\n",
    "    u=((u**2)//100) %10000\n",
    "    return u\n",
    "\n",
    "def getNSequenceFromVonNeumann(n,seed):\n",
    "    sequence=[seed]\n",
    "    for i in range(n):\n",
    "        sequence.append(vonNeumann(sequence[i]))\n",
    "    return sequence\n",
    "        "
   ]
  },
  {
   "cell_type": "code",
   "execution_count": 3,
   "metadata": {},
   "outputs": [
    {
     "name": "stdout",
     "output_type": "stream",
     "text": [
      "These are the first 10 digits from using 3972 as seed:\n",
      "[3972, 7767, 3262, 6406, 368, 1354, 8333, 4388, 2545, 4770, 7529]\n",
      "These are the first 10 digits from using 1004 as seed:\n",
      "[1004, 80, 64, 40, 16, 2, 0, 0, 0, 0, 0]\n",
      "These are the first 10 digits from using 2100 as seed:\n",
      "[2100, 4100, 8100, 6100, 2100, 4100, 8100, 6100, 2100, 4100, 8100]\n",
      "These are the first 10 digits from using 1234 as seed:\n",
      "[1234, 5227, 3215, 3362, 3030, 1809, 2724, 4201, 6484, 422, 1780]\n"
     ]
    }
   ],
   "source": [
    "n = 10\n",
    "seeds = [3972, 1004 ,2100, 1234]\n",
    "\n",
    "for seed in seeds:\n",
    "    sequence = getNSequenceFromVonNeumann(n,seed)\n",
    "    print(\"These are the first {} digits from using {} as seed:\".format(n,seed))\n",
    "    print(sequence)"
   ]
  },
  {
   "cell_type": "markdown",
   "metadata": {},
   "source": [
    "### b.  \n",
    "Calcular los diez primeros elementos de la secuencia generada por el generador congruencial: \n",
    "yi+1=5yi+4 mod(25)  \n",
    "para y0=4 y para y0=50. \n",
    "¿Cuál es el período de la secuencia en cada caso?"
   ]
  },
  {
   "cell_type": "code",
   "execution_count": 4,
   "metadata": {},
   "outputs": [],
   "source": [
    "###Generador mixto\n",
    "##M: período, a: multiplicador, c:incremento\n",
    "def ranMixto(a, c, M, u):\n",
    "    return (a * u + c) % M\n",
    "\n",
    "def genNsequenceFromRanMixto(a,c,M,u,n):\n",
    "    rands = [u]\n",
    "    for _ in range(n):\n",
    "        u = ranMixto(a,c,M,u)\n",
    "        rands.append(u)\n",
    "    return rands\n",
    "\n",
    "def getPeriod(sequence,M):\n",
    "    period_length = 0\n",
    "    period = [sequence[0]]\n",
    "    for number in sequence:\n",
    "        if sequence[M:] == period:\n",
    "            period_length = length(period)\n",
    "        else:\n",
    "            period.append(period)\n",
    "    "
   ]
  },
  {
   "cell_type": "code",
   "execution_count": 5,
   "metadata": {},
   "outputs": [],
   "source": [
    "###Generador multiplicativo\n",
    "###M: período, a: multiplicador\n",
    "def ranMulti(a, M, u):\n",
    "    return (a * u) % M"
   ]
  },
  {
   "cell_type": "markdown",
   "metadata": {},
   "source": [
    "Las siguientes celdas se utilizaron en la videoclase para generar secuencias e histogramas."
   ]
  },
  {
   "cell_type": "code",
   "execution_count": 6,
   "metadata": {},
   "outputs": [
    {
     "name": "stdout",
     "output_type": "stream",
     "text": [
      "The first 50 elements from random congruential generator with y0 = 4\n",
      "The period length is None\n",
      "[4, 24, 28, 16, 20, 8, 12, 0, 4, 24, 28, 16, 20, 8, 12, 0, 4, 24, 28, 16, 20, 8, 12, 0, 4, 24, 28, 16, 20, 8, 12, 0, 4, 24, 28, 16, 20, 8, 12, 0, 4, 24, 28, 16, 20, 8, 12, 0, 4, 24, 28]\n",
      "The first 50 elements from random congruential generator with y0 = 50\n",
      "The period length is None\n",
      "[50, 30, 26, 6, 2, 14, 10, 22, 18, 30, 26, 6, 2, 14, 10, 22, 18, 30, 26, 6, 2, 14, 10, 22, 18, 30, 26, 6, 2, 14, 10, 22, 18, 30, 26, 6, 2, 14, 10, 22, 18, 30, 26, 6, 2, 14, 10, 22, 18, 30, 26]\n"
     ]
    }
   ],
   "source": [
    "a = 5; c = 4; M = 2**5 ; n=50; \n",
    "y0s = [4,50]\n",
    "for y0 in y0s:\n",
    "    print(\"The first {} elements from random congruential generator with y0 = {}\".format(n,y0))\n",
    "    sequence = genNsequenceFromRanMixto(a,c,M,y0,n)\n",
    "    period = getPeriod(sequence,M)\n",
    "    print(\"The period length is {}\".format(period))\n",
    "    print(sequence)\n"
   ]
  },
  {
   "cell_type": "code",
   "execution_count": 7,
   "metadata": {},
   "outputs": [
    {
     "data": {
      "text/plain": [
       "[18, 30, 26, 6, 2, 14, 10, 22]"
      ]
     },
     "execution_count": 7,
     "metadata": {},
     "output_type": "execute_result"
    }
   ],
   "source": [
    "sequence[M:M+8]"
   ]
  },
  {
   "cell_type": "markdown",
   "metadata": {},
   "source": [
    "### c.  \n",
    "Indicar en cuáles de los siguientes casos el generador yi+1 =a yi+ c mod(M) genera  una  secuencia  de  período  máximo.   Puede  utilizar  resultados  teóricos  o  implementarlo  en Python y calcular el período de la secuencia.  \n",
    "- a=125,c=3,M=29  \n",
    "- a=123,c=3,M=29  \n",
    "- a=5,c=0,M=71  \n",
    "- a=7,c=0,M=71   "
   ]
  },
  {
   "cell_type": "markdown",
   "metadata": {},
   "source": [
    "Un generador mixto (c != 0) genera una secuencia de periodo maximo si:\n",
    "- mcd(c,M) = 1 (c y M coprimos)\n",
    "- a es congruente a 1 modulo p para cualquier factor primo p de M ()\n",
    "- Si 4|M entonces a es congruente a 1 modulo 4  \n",
    "\n",
    "La longitud K de la secuencia de un generador multiplicativo (c == 0) cumple las siguientes propiedades:\n",
    "- si K = M - 1, entonces M es primo\n",
    "- K divide a M - 1\n",
    "- K = M - 1 sii a es raiz primitiva de M y M es primo"
   ]
  },
  {
   "cell_type": "code",
   "execution_count": 97,
   "metadata": {},
   "outputs": [],
   "source": [
    "def GeneratesMaxPeriodFirstCondition(c,M):\n",
    "    return gcd(c,M) == 1\n",
    "\n",
    "def GeneratesMaxPeriodSecondCondition(a,M):\n",
    "    # Calculate M prime factors\n",
    "    MPrimeFactors = list(factorint(M).keys())\n",
    "    # Calculate a congruent 1 mod p for each prime im M factorization\n",
    "    congruences = all((a % prime) == (1 % prime) for prime in MPrimeFactors)\n",
    "    return congruences\n",
    "    \n",
    "def GeneratesMaxPeriodThirdCondition(a,M):\n",
    "    value = True\n",
    "    # If 4|M then a is congruent to 1 moduli 4\n",
    "    if M % 4 == 0:\n",
    "        value = (a % 4) == 1\n",
    "    else:\n",
    "        value = True\n",
    "    return value\n",
    "\n",
    "def isPrimitiveRoot(a,M):\n",
    "    primeFactors = list(factorint(M-1).keys())\n",
    "#    res = all(((a**((M-1)/p)) % M) != (1 % M) for p in primeFactors)\n",
    "    res = is_primitive_root(a,M)\n",
    "    return res\n",
    "\n",
    "def GeneratesMaxPeriod(a,c,M):\n",
    "    if c != 0:\n",
    "        firstCondition = GeneratesMaxPeriodFirstCondition(c,M)\n",
    "        secondCondition = GeneratesMaxPeriodSecondCondition(a,M)\n",
    "        thirdCondition = GeneratesMaxPeriodThirdCondition(a,M)\n",
    "        res = firstCondition and secondCondition and thirdCondition\n",
    "    else:\n",
    "        res = isprime(M) and isPrimitiveRoot(a,M) \n",
    "    if res:\n",
    "        print(\"The generator with parameters a:{} c:{} M:{} generates a max period sequence\".format(a,c,M))\n",
    "    return res"
   ]
  },
  {
   "cell_type": "code",
   "execution_count": 98,
   "metadata": {},
   "outputs": [
    {
     "name": "stdout",
     "output_type": "stream",
     "text": [
      "The generator with parameters a:125 c:3 M:512 generates a max period sequence\n",
      "The generator with parameters a:7 c:0 M:71 generates a max period sequence\n",
      "The generator with parameters a:1103515245 c:12345 M:4294967296 generates a max period sequence\n"
     ]
    }
   ],
   "source": [
    "a=125; c=3; M=2**9;\n",
    "res = GeneratesMaxPeriod(a,c,M)\n",
    "a=123;c=3;M=2**9;\n",
    "res = GeneratesMaxPeriod(a,c,M)\n",
    "a=5;c=0;M=71;\n",
    "res = GeneratesMaxPeriod(a,c,M)\n",
    "a=7;c=0;M=71;\n",
    "res = GeneratesMaxPeriod(a,c,M)\n",
    "a=1103515245;c=12345;M=2**32;\n",
    "res = GeneratesMaxPeriod(a,c,M)"
   ]
  },
  {
   "cell_type": "markdown",
   "metadata": {},
   "source": [
    "### d."
   ]
  },
  {
   "cell_type": "markdown",
   "metadata": {
    "toc-hr-collapsed": true,
    "toc-nb-collapsed": true
   },
   "source": [
    "## Ejercicio 2\n",
    "Se propone el siguiente juego en el cual todas las variables aleatorias que se generan son **independientese  idénticamente  distribuidas U(0,1)**:  \n",
    "Se  simula  la  variable  aleatoria U. Si U < 1/2, se suman  dos  nuevos  números  aleatorios W1+W2.\n",
    "Pero  si U ≥ 1/2,  se  suman  tres  números  aleatorios. **El resultado de la suma, en cualquiera de los casos, es una variable aleatoria X**. Se gana en el juego siX ≥ 1 .\n",
    "- a)  ¿Cuál es la probabilidad de ganar?.\n",
    "- b)  La probabilidad de ganar, ¿Es independiente de U?.\n",
    "- c)  Implementar un algoritmo en computadora que estime la probabilidad de ganar, esto es, la fracciónde veces que se gana ennrealizaciones del juego. Completar la siguiente tabla:\n"
   ]
  },
  {
   "cell_type": "markdown",
   "metadata": {
    "toc-hr-collapsed": true,
    "toc-nb-collapsed": true
   },
   "source": [
    "### c"
   ]
  },
  {
   "cell_type": "code",
   "execution_count": 39,
   "metadata": {},
   "outputs": [],
   "source": [
    "def exercise2GameResult():\n",
    "    u = random()\n",
    "    x = 0\n",
    "    if u < 0.5:\n",
    "        x = random() + random()\n",
    "    else:\n",
    "        x = random() + random() + random()\n",
    "    return x\n",
    "\n",
    "\n",
    "def playGame2NTimes(N):\n",
    "    wins = 0\n",
    "    for _ in range(int(N)):\n",
    "        if exercise2GameResult() > 1:\n",
    "            wins += 1\n",
    "    return wins"
   ]
  },
  {
   "cell_type": "code",
   "execution_count": 40,
   "metadata": {},
   "outputs": [
    {
     "name": "stdout",
     "output_type": "stream",
     "text": [
      "Playing the game 10000.0 times resulted on a 0.6676 probability of winning\n",
      "Playing the game 100000.0 times resulted on a 0.66804 probability of winning\n",
      "Playing the game 1000000.0 times resulted on a 0.6665 probability of winning\n",
      "Playing the game 10000000.0 times resulted on a 0.6665397 probability of winning\n",
      "Playing the game 100000000.0 times resulted on a 0.66668396 probability of winning\n"
     ]
    }
   ],
   "source": [
    "N = [10e3, 10e4,10e5,10e6,10e7]\n",
    "results = []\n",
    "for n in N:\n",
    "    res = playGame2NTimes(n)/n \n",
    "    results.append(res)\n",
    "    print(\"Playing the game {} times resulted on a {} probability of winning\".format(n,res))\n",
    "    "
   ]
  },
  {
   "cell_type": "markdown",
   "metadata": {
    "toc-hr-collapsed": true,
    "toc-nb-collapsed": true
   },
   "source": [
    "## Ejercicio 3\n",
    "\n",
    "Las maquinas tragamonedas usualmente generan un premio cuando hay un acierto. Supongamos que se genera el acierto con el siguiente esquema: se genera un número aleatorio, y  \n",
    "i)  si es menor a un tercio, se suman dos nuevos números aleatorios  \n",
    "ii)  si es mayor o igual a un tercio, se suman tres números aleatorios"
   ]
  },
  {
   "cell_type": "code",
   "execution_count": 3,
   "metadata": {},
   "outputs": [],
   "source": [
    "def exercise3GameResult():\n",
    "    u = random()\n",
    "    x = 0\n",
    "    if u < 1/3:\n",
    "        x = random() + random()\n",
    "    else:\n",
    "        x = random() + random() + random()\n",
    "    return x\n",
    "\n",
    "\n",
    "def playGame3NTimes(N):\n",
    "    wins = 0\n",
    "    for _ in range(int(N)):\n",
    "        if exercise3GameResult() <= 2:\n",
    "            wins += 1\n",
    "    return wins"
   ]
  },
  {
   "cell_type": "code",
   "execution_count": 5,
   "metadata": {},
   "outputs": [
    {
     "name": "stdout",
     "output_type": "stream",
     "text": [
      "Playing the game 100000000.0 times resulted on a 0.8952 probability of winning\n",
      "Playing the game 100000000.0 times resulted on a 0.88958 probability of winning\n",
      "Playing the game 100000000.0 times resulted on a 0.888613 probability of winning\n",
      "Playing the game 100000000.0 times resulted on a 0.8889673 probability of winning\n",
      "Playing the game 100000000.0 times resulted on a 0.88889444 probability of winning\n"
     ]
    }
   ],
   "source": [
    "Ns = [10e3, 10e4,10e5,10e6,10e7]\n",
    "results = []\n",
    "for N in Ns:\n",
    "    res = playGame3NTimes(N)/N \n",
    "    results.append(res)\n",
    "    print(\"Playing the game {} times resulted on a {} probability of winning\".format(N,res))\n",
    "    "
   ]
  },
  {
   "cell_type": "markdown",
   "metadata": {
    "toc-hr-collapsed": true,
    "toc-nb-collapsed": true
   },
   "source": [
    "## Ejercicio 4\n",
    "Un supermercado posee de 3 cajas, de los cuales, por una cuestión de ubicación, el 40% de los clientes eligen la caja 1 para pagar, el 32% la caja 2, y el 28% la caja 3. El tiempo que espera una personapara ser atendido en cada caja distribuye exponencial con medias 3, 4 y 5 minutos respectivamente.\n",
    "- a)¿Cuál es la probabilidad de que un cliente espere menos de 4 minutos para ser atendido?\n",
    "- b) Si el cliente tuvo que esperar más de 4 minutos.¿Cuál es la probabilidad de que el cliente hayaelegido cada una de las cajas?\n",
    "- c) Simule el problema y estime las probabilidades anteriores con 1000 iteraciones"
   ]
  },
  {
   "cell_type": "markdown",
   "metadata": {
    "toc-hr-collapsed": true,
    "toc-nb-collapsed": true
   },
   "source": [
    "### a"
   ]
  },
  {
   "cell_type": "code",
   "execution_count": 12,
   "metadata": {},
   "outputs": [
    {
     "data": {
      "text/plain": [
       "0.6510276136260258"
      ]
     },
     "execution_count": 12,
     "metadata": {},
     "output_type": "execute_result"
    }
   ],
   "source": [
    "def FWaitingTime(x):\n",
    "    box1 = 0.40 * (1 - exp((-1/3)*x))\n",
    "    box2 = 0.32 * (1 - exp((-1/4)*x))\n",
    "    box3 = 0.28 * (1 - exp((-1/5)*x))\n",
    "    return box1 + box2 + box3\n",
    "\n",
    "# def FWaitingTime(x):\n",
    "#     return 0\n",
    "    \n",
    "\n",
    "FWaitingTime(4)    "
   ]
  },
  {
   "cell_type": "markdown",
   "metadata": {},
   "source": [
    "### B"
   ]
  },
  {
   "cell_type": "code",
   "execution_count": 14,
   "metadata": {},
   "outputs": [
    {
     "name": "stdout",
     "output_type": "stream",
     "text": [
      "0.30214096978234195\n",
      "0.33733735324463776\n",
      "0.36052167697302057\n"
     ]
    }
   ],
   "source": [
    "# Probability of having chose box i if the waiting time was more than 4 minutes\n",
    "#\n",
    "probOfWaitingLessThan4Minutes = 1 - FWaitingTime(4)\n",
    "probBox1Given4MinuteWait = (0.40 * exp((-1/3)*4))/(probOfWaitingLessThan4Minutes)\n",
    "probBox2Given4MinuteWait = (0.32 * exp((-1/4)*4))/(probOfWaitingLessThan4Minutes)\n",
    "probBox3Given4MinuteWait = (0.28 * exp((-1/5)*4))/(probOfWaitingLessThan4Minutes)\n",
    "\n",
    "print(probBox1Given4MinuteWait)\n",
    "print(probBox2Given4MinuteWait)\n",
    "print(probBox3Given4MinuteWait)"
   ]
  },
  {
   "cell_type": "markdown",
   "metadata": {},
   "source": [
    "\n",
    "### c"
   ]
  },
  {
   "cell_type": "code",
   "execution_count": 5,
   "metadata": {},
   "outputs": [],
   "source": [
    "def boxWaitingTime(exponentialDitributionLambda):\n",
    "    return expovariate(exponentialDitributionLambda)\n",
    "\n",
    "def supermarketSim():\n",
    "    box1Chance = 0.4\n",
    "    box2Chance = box1Chance + 0.32\n",
    "    box3Chance = box2Chance + 0.28\n",
    "    u = random()\n",
    "    waitingTime = 0\n",
    "    boxPicked = 0\n",
    "\n",
    "    if u < box1Chance:\n",
    "        waitingTime = boxWaitingTime(1/3)\n",
    "        boxPicked = 1\n",
    "    elif u < box2Chance:\n",
    "        waitingTime = boxWaitingTime(1/4)\n",
    "        boxPicked = 2\n",
    "    elif u > box2Chance:\n",
    "        waitingTime = boxWaitingTime(1/5)\n",
    "        boxPicked = 3\n",
    "    return waitingTime,boxPicked\n",
    "\n"
   ]
  },
  {
   "cell_type": "code",
   "execution_count": 6,
   "metadata": {},
   "outputs": [
    {
     "name": "stdout",
     "output_type": "stream",
     "text": [
      "The probability of having picked box 1 if the wait was over 4 minutes is 0.30117423040304664\n",
      "The probability of having picked box 2 if the wait was over 4 minutes is 0.3418251060269467\n",
      "The probability of having picked box 3 if the wait was over 4 minutes is 0.35700066357000665\n",
      "In 100000 times going to the supermarket 65.339% waited less than 4 minutes\n",
      "In 100000 times going to the supermarket the average waiting time was 3.8693308124799164\n"
     ]
    }
   ],
   "source": [
    "from collections import defaultdict\n",
    "N = 100000\n",
    "res = 0\n",
    "totalWaitTime = 0\n",
    "boxPickedCounts = defaultdict(int)\n",
    "over4secondsWaitTotal = 0\n",
    "for _ in range(N):\n",
    "    waitingTime,boxPicked = supermarketSim()\n",
    "    totalWaitTime += waitingTime\n",
    "    if waitingTime <= 4:\n",
    "        res += 1\n",
    "    else:\n",
    "        boxPickedCounts[boxPicked] += 1\n",
    "        over4secondsWaitTotal+=1\n",
    "        \n",
    "for box,n in boxPickedCounts.items():\n",
    "    print(\"The probability of having picked box {} if the wait was over 4 minutes is {}\".format(box,n/over4secondsWaitTotal))\n",
    "    \n",
    "print(\"In {} times going to the supermarket {}% waited less than 4 minutes\".format(N,(res/N)*100))\n",
    "print(\"In {} times going to the supermarket the average waiting time was {}\".format(N,totalWaitTime/N))"
   ]
  },
  {
   "cell_type": "markdown",
   "metadata": {
    "toc-hr-collapsed": true,
    "toc-nb-collapsed": true
   },
   "source": [
    "## Ejercicio 5\n",
    "Calcule exactamente el valor de las siguientes integrales. Mediante una simulación de MonteCarlo con n iteraciones, calcule a su vez un valor aproximado y compare con el valor exacto.\n",
    "\n",
    "![](images/ej5p3.jpg)"
   ]
  },
  {
   "cell_type": "markdown",
   "metadata": {},
   "source": [
    "### a"
   ]
  },
  {
   "cell_type": "code",
   "execution_count": 46,
   "metadata": {},
   "outputs": [],
   "source": [
    "from random import random\n",
    "##estimación de la integral de g con Nsim simulaciones\n",
    "def monteCarlo01(g, nSim):\n",
    "    integral = 0\n",
    "    for _ in range(nSim):\n",
    "        integral += g(random())\n",
    "    return integral/nSim\n",
    "\n",
    "# We are not using this\n",
    "def monteCarloab(funciong, a, b, nSim):\n",
    "    integral = 0 \n",
    "    for _ in range(Nsim):\n",
    "        integral += g(a + (b-a)*random())\n",
    "    return integral*(b-a)/nSim"
   ]
  },
  {
   "cell_type": "code",
   "execution_count": 47,
   "metadata": {},
   "outputs": [
    {
     "data": {
      "text/plain": [
       "0.5787802531715047"
      ]
     },
     "execution_count": 47,
     "metadata": {},
     "output_type": "execute_result"
    }
   ],
   "source": [
    "def a(u): \n",
    "    return (1 - u ** 2) ** (1.5)\n",
    "\n",
    "monteCarlo01(a,1000)"
   ]
  },
  {
   "cell_type": "markdown",
   "metadata": {},
   "source": [
    "### b"
   ]
  },
  {
   "cell_type": "code",
   "execution_count": 32,
   "metadata": {},
   "outputs": [],
   "source": [
    "def monteCarlo0Infinite(g, nSim):\n",
    "    integral = 0\n",
    "    for _ in range(nSim):\n",
    "        u = random()\n",
    "        integral += (1/(u**2)) * g((1/u)-1)\n",
    "    return integral/nSim"
   ]
  },
  {
   "cell_type": "code",
   "execution_count": 33,
   "metadata": {},
   "outputs": [],
   "source": [
    "def b(u):\n",
    "    return (u*(1+u**2)**(-2))"
   ]
  },
  {
   "cell_type": "code",
   "execution_count": 34,
   "metadata": {},
   "outputs": [
    {
     "data": {
      "text/plain": [
       "0.5106551089194675"
      ]
     },
     "execution_count": 34,
     "metadata": {},
     "output_type": "execute_result"
    }
   ],
   "source": [
    "monteCarlo0Infinite(b,1000)"
   ]
  },
  {
   "cell_type": "markdown",
   "metadata": {},
   "source": [
    "### c"
   ]
  },
  {
   "cell_type": "code",
   "execution_count": 64,
   "metadata": {},
   "outputs": [],
   "source": [
    "def monteCarloInfinite0(g, nSim):\n",
    "    integral = 0\n",
    "    for _ in range(nSim):\n",
    "        u = random()  \n",
    "        integral += (1/(-u)**2) * (g((1/(-u))-1))\n",
    "    return integral/nSim\n",
    "\n",
    "def subs(u):\n",
    "    return (-u)\n",
    "    \n",
    "\n",
    "def monteCarloInfInf(g,nSim):\n",
    "    # Como la funcion es par ni nos vamos a gastar\n",
    "    integral = 2*monteCarlo0Infinite(g, nSim)\n",
    "    return integral\n",
    "    \n",
    "def c(u):\n",
    "    return exp(-u**2)"
   ]
  },
  {
   "cell_type": "code",
   "execution_count": 62,
   "metadata": {},
   "outputs": [
    {
     "data": {
      "text/plain": [
       "1.7910525857723671"
      ]
     },
     "execution_count": 62,
     "metadata": {},
     "output_type": "execute_result"
    }
   ],
   "source": [
    "monteCarloInfInf(c,1000)"
   ]
  },
  {
   "cell_type": "markdown",
   "metadata": {},
   "source": [
    "### d"
   ]
  },
  {
   "cell_type": "code",
   "execution_count": 68,
   "metadata": {},
   "outputs": [],
   "source": [
    "def monteCarloMulti(g,nSim):\n",
    "    integral = 0\n",
    "    for _ in range(nSim):\n",
    "        integral += g(random(),random())\n",
    "    return integral/nSim"
   ]
  },
  {
   "cell_type": "code",
   "execution_count": 69,
   "metadata": {},
   "outputs": [],
   "source": [
    "def d(u,v):\n",
    "    return exp((u+v)**2)"
   ]
  },
  {
   "cell_type": "code",
   "execution_count": 76,
   "metadata": {},
   "outputs": [
    {
     "data": {
      "text/plain": [
       "4.899153340315482"
      ]
     },
     "execution_count": 76,
     "metadata": {},
     "output_type": "execute_result"
    }
   ],
   "source": [
    "monteCarloMulti(d,10000000)"
   ]
  },
  {
   "cell_type": "markdown",
   "metadata": {},
   "source": [
    "### e"
   ]
  },
  {
   "cell_type": "code",
   "execution_count": 70,
   "metadata": {},
   "outputs": [],
   "source": [
    "def I(x,y):\n",
    "    return y < x\n",
    "\n",
    "def monteCarloE(g,nSim):\n",
    "    integral = 0\n",
    "    for _ in range(nSim):\n",
    "        u,v = random(),random()\n",
    "        u_value,v_value = 1/u-1,1/v-1\n",
    "        integral += I(u_value,v_value) * g(u_value,v_value) / ((u**2)*(v**2))\n",
    "    return integral/nSim\n",
    "        \n",
    "def e(u,v):\n",
    "    return exp(-(u+v))"
   ]
  },
  {
   "cell_type": "code",
   "execution_count": 74,
   "metadata": {},
   "outputs": [
    {
     "data": {
      "text/plain": [
       "0.5306382407378565"
      ]
     },
     "execution_count": 74,
     "metadata": {},
     "output_type": "execute_result"
    }
   ],
   "source": [
    "monteCarloE(e,1000)"
   ]
  },
  {
   "cell_type": "markdown",
   "metadata": {
    "toc-hr-collapsed": true,
    "toc-nb-collapsed": true
   },
   "source": [
    "## Ejercicio 6 \n",
    "\n",
    "Para U1,U2,... variables aleatorias uniformemente distribuídas en el intervalo (0,1), se define: N=Mínimo{n:n∑i=1Ui>1}  \n",
    "Es decir,N es igual a la cantidad de números aleatorios que deben sumarse para exceder a 1.\n",
    "\n",
    "- a)  Estimar E[N]generandonvalores de N y completar la siguiente  \n",
    "- b)  Calcular el valor exacto de E[N]."
   ]
  },
  {
   "cell_type": "code",
   "execution_count": 86,
   "metadata": {},
   "outputs": [],
   "source": [
    "def simulationEx6(nSim):\n",
    "    s = 0\n",
    "    N = 0\n",
    "    for _ in range(int(nSim)):\n",
    "        s = 0\n",
    "        n = 0\n",
    "        while s < 1:\n",
    "            s += random()\n",
    "            n += 1\n",
    "        N += n\n",
    "    return N/nSim"
   ]
  },
  {
   "cell_type": "code",
   "execution_count": 92,
   "metadata": {},
   "outputs": [
    {
     "name": "stdout",
     "output_type": "stream",
     "text": [
      "simulating 100.0 times resulted on an average of 2.7 variables\n",
      "simulating 1000.0 times resulted on an average of 2.728 variables\n",
      "simulating 10000.0 times resulted on an average of 2.7163 variables\n",
      "simulating 100000.0 times resulted on an average of 2.71271 variables\n",
      "simulating 1000000.0 times resulted on an average of 2.718514 variables\n",
      "simulating 10000000.0 times resulted on an average of 2.7185625 variables\n"
     ]
    }
   ],
   "source": [
    "Ns = [10e1,10e2,10e3, 10e4,10e5,10e6]\n",
    "results = []\n",
    "for N in Ns:\n",
    "    res = simulationEx6(N) \n",
    "    results.append(res)\n",
    "    print(\"simulating {} times resulted on an average of {} variables\".format(N,res))"
   ]
  },
  {
   "cell_type": "markdown",
   "metadata": {
    "toc-hr-collapsed": true,
    "toc-nb-collapsed": true
   },
   "source": [
    "## Ejercicio 7\n",
    "\n",
    "Para U1,U2,...números aleatorios, se define:  \n",
    "N=Máximo{n:n∏i=1Ui≥e−3}donde:0∏i=1Ui=1. \n",
    "- a) Mediante n simulaciones determinar la tabla de siempre\n",
    "- b) P(N=i)parai=0,1,2,3,4,5,6, usando n=1000000."
   ]
  },
  {
   "cell_type": "code",
   "execution_count": 116,
   "metadata": {},
   "outputs": [],
   "source": [
    "def simulationEx7(i,nSim):\n",
    "    s = 0\n",
    "    N = 0\n",
    "    eqToiSum = 0\n",
    "    maxN = 0\n",
    "    for _ in range(int(nSim)):\n",
    "        s = random()\n",
    "        n = 0\n",
    "        while s >= exp(-3):\n",
    "            s *= random()\n",
    "            n += 1\n",
    "        if (n == i):\n",
    "            eqToiSum += 1\n",
    "        if n>maxN:\n",
    "            maxN = n\n",
    "        N += n\n",
    "    return N/nSim, eqToiSum/N, maxN"
   ]
  },
  {
   "cell_type": "markdown",
   "metadata": {},
   "source": [
    "### a"
   ]
  },
  {
   "cell_type": "code",
   "execution_count": 118,
   "metadata": {},
   "outputs": [
    {
     "name": "stdout",
     "output_type": "stream",
     "text": [
      "The max number of variables such as their product is >= e**(-3) is 7\n",
      "simulating 100.0 times resulted on an average of 2.92 variables\n",
      "The max number of variables such as their product is >= e**(-3) is 10\n",
      "simulating 1000.0 times resulted on an average of 3.035 variables\n",
      "The max number of variables such as their product is >= e**(-3) is 11\n",
      "simulating 10000.0 times resulted on an average of 2.9801 variables\n",
      "The max number of variables such as their product is >= e**(-3) is 14\n",
      "simulating 100000.0 times resulted on an average of 3.00544 variables\n",
      "The max number of variables such as their product is >= e**(-3) is 14\n",
      "simulating 1000000.0 times resulted on an average of 2.999996 variables\n"
     ]
    }
   ],
   "source": [
    "Ns = [10e1,10e2,10e3, 10e4,10e5]\n",
    "results = []\n",
    "for N in Ns:\n",
    "    res, i, maxN = simulationEx7(0,N) \n",
    "    results.append(res)\n",
    "    print(\"The max number of variables such as their product is >= e**(-3) is {}\".format(maxN))\n",
    "    print(\"simulating {} times resulted on an average of {} variables\".format(N,res))"
   ]
  },
  {
   "cell_type": "markdown",
   "metadata": {},
   "source": [
    "### b "
   ]
  },
  {
   "cell_type": "code",
   "execution_count": 120,
   "metadata": {},
   "outputs": [
    {
     "name": "stdout",
     "output_type": "stream",
     "text": [
      "P(N = 0) is 0.01661785470599103 \n",
      "P(N = 1) is 0.04971104853245043 \n",
      "P(N = 2) is 0.07485427760158567 \n",
      "P(N = 3) is 0.07469730747842694 \n",
      "P(N = 4) is 0.05616989649765116 \n",
      "P(N = 5) is 0.03364235461483669 \n",
      "P(N = 6) is 0.016865472365274293 \n"
     ]
    }
   ],
   "source": [
    "Is = [0,1,2,3,4,5,6]\n",
    "n = 10e5\n",
    "for i in Is:\n",
    "    res , P, maxN = simulationEx7(i,N) \n",
    "    results.append(res)\n",
    "    print(\"P(N = {}) is {} \".format(i,P))"
   ]
  },
  {
   "cell_type": "markdown",
   "metadata": {},
   "source": [
    "## Ejercicio 8\n",
    "\n",
    "Un juego consiste en dos pasos.  En el primer paso se tira un dado convencional.  Si sale 1 o 6 tira un nuevo dado y se le otorga al jugador como puntaje el doble del resultado obtenido en esta nueva tirada; pero si sale 2, 3, 4 o 5 en la primer tirada, el jugador debería tirar dos nuevos dados, y recibiría como puntaje la suma de los dados. Si el puntaje del jugador excede los 6 puntos entonces gana."
   ]
  },
  {
   "cell_type": "code",
   "execution_count": 17,
   "metadata": {},
   "outputs": [],
   "source": [
    "def exercise8GameResult():\n",
    "    dice = randint(1,6)\n",
    "    if dice in [1,6]:\n",
    "        score = randint(1,6)*2\n",
    "    else:\n",
    "        score = randint(1,6) + randint(1,6)\n",
    "    return score > 6"
   ]
  },
  {
   "cell_type": "code",
   "execution_count": 22,
   "metadata": {},
   "outputs": [
    {
     "name": "stdout",
     "output_type": "stream",
     "text": [
      "The player won in 0.66% of games\n"
     ]
    }
   ],
   "source": [
    "nSim = 10000\n",
    "wins = 0\n",
    "for _ in range(nSim):\n",
    "    wins += exercise8GameResult()\n",
    "print(\"The player won in {}% of games\".format((wins/nSim)))"
   ]
  },
  {
   "cell_type": "code",
   "execution_count": null,
   "metadata": {},
   "outputs": [],
   "source": []
  }
 ],
 "metadata": {
  "kernelspec": {
   "display_name": "Python 3",
   "language": "python",
   "name": "python3"
  },
  "language_info": {
   "codemirror_mode": {
    "name": "ipython",
    "version": 3
   },
   "file_extension": ".py",
   "mimetype": "text/x-python",
   "name": "python",
   "nbconvert_exporter": "python",
   "pygments_lexer": "ipython3",
   "version": "3.7.6"
  }
 },
 "nbformat": 4,
 "nbformat_minor": 4
}
