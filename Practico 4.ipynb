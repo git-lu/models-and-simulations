{
 "cells": [
  {
   "cell_type": "markdown",
   "metadata": {},
   "source": [
    "## Imports"
   ]
  },
  {
   "cell_type": "code",
   "execution_count": 2,
   "metadata": {},
   "outputs": [],
   "source": [
    "from random import randint, random\n",
    "from math import exp\n",
    "from timeit import timeit\n",
    "from scipy.stats import binom\n",
    "import numpy as np\n",
    "import matplotlib.pyplot as plt\n"
   ]
  },
  {
   "cell_type": "markdown",
   "metadata": {},
   "source": [
    "## Ejercicio 1  \n",
    "Se baraja un conjunto de n = 100 cartas (numeradas consecutivamente del 1 al 100) y se extrae\n",
    "del mazo una carta por vez. Consideramos que ocurre un “éxito” si la i-ésima carta extraída es aquella cuyo\n",
    "número es i (i = 1, . . . , n).\n",
    "Simular la situación y calcular la esperanza y la varianza"
   ]
  },
  {
   "cell_type": "code",
   "execution_count": 18,
   "metadata": {},
   "outputs": [],
   "source": [
    "from os import getcwd\n",
    "import os\n",
    "import sys"
   ]
  },
  {
   "cell_type": "code",
   "execution_count": 19,
   "metadata": {},
   "outputs": [
    {
     "data": {
      "text/plain": [
       "'/home/lucia/Documents/modelos-y-simulaciones'"
      ]
     },
     "execution_count": 19,
     "metadata": {},
     "output_type": "execute_result"
    }
   ],
   "source": [
    "getcwd()"
   ]
  },
  {
   "cell_type": "code",
   "execution_count": 20,
   "metadata": {},
   "outputs": [
    {
     "ename": "NameError",
     "evalue": "name '__file__' is not defined",
     "output_type": "error",
     "traceback": [
      "\u001b[0;31m---------------------------------------------------------------------------\u001b[0m",
      "\u001b[0;31mNameError\u001b[0m                                 Traceback (most recent call last)",
      "\u001b[0;32m<ipython-input-20-5bdda133678f>\u001b[0m in \u001b[0;36m<module>\u001b[0;34m\u001b[0m\n\u001b[0;32m----> 1\u001b[0;31m \u001b[0mPATH\u001b[0m \u001b[0;34m=\u001b[0m \u001b[0mos\u001b[0m\u001b[0;34m.\u001b[0m\u001b[0mpath\u001b[0m\u001b[0;34m.\u001b[0m\u001b[0mjoin\u001b[0m\u001b[0;34m(\u001b[0m\u001b[0mos\u001b[0m\u001b[0;34m.\u001b[0m\u001b[0mpath\u001b[0m\u001b[0;34m.\u001b[0m\u001b[0msplit\u001b[0m\u001b[0;34m(\u001b[0m\u001b[0mos\u001b[0m\u001b[0;34m.\u001b[0m\u001b[0mpath\u001b[0m\u001b[0;34m.\u001b[0m\u001b[0mdirname\u001b[0m\u001b[0;34m(\u001b[0m\u001b[0mos\u001b[0m\u001b[0;34m.\u001b[0m\u001b[0mpath\u001b[0m\u001b[0;34m.\u001b[0m\u001b[0mrealpath\u001b[0m\u001b[0;34m(\u001b[0m\u001b[0mos\u001b[0m\u001b[0;34m.\u001b[0m\u001b[0mpath\u001b[0m\u001b[0;34m.\u001b[0m\u001b[0mdirname\u001b[0m\u001b[0;34m(\u001b[0m\u001b[0m__file__\u001b[0m\u001b[0;34m)\u001b[0m\u001b[0;34m)\u001b[0m\u001b[0;34m)\u001b[0m\u001b[0;34m)\u001b[0m\u001b[0;34m[\u001b[0m\u001b[0;36m0\u001b[0m\u001b[0;34m]\u001b[0m\u001b[0;34m,\u001b[0m\u001b[0;34m\"discreteVariablesGenerator\"\u001b[0m\u001b[0;34m)\u001b[0m\u001b[0;34m\u001b[0m\u001b[0;34m\u001b[0m\u001b[0m\n\u001b[0m\u001b[1;32m      2\u001b[0m \u001b[0msys\u001b[0m\u001b[0;34m.\u001b[0m\u001b[0mpath\u001b[0m\u001b[0;34m.\u001b[0m\u001b[0minsert\u001b[0m\u001b[0;34m(\u001b[0m\u001b[0;36m1\u001b[0m\u001b[0;34m,\u001b[0m \u001b[0mPATH\u001b[0m\u001b[0;34m)\u001b[0m\u001b[0;34m\u001b[0m\u001b[0;34m\u001b[0m\u001b[0m\n\u001b[1;32m      3\u001b[0m \u001b[0;32mfrom\u001b[0m \u001b[0mdiscreteVariablesGenerators\u001b[0m\u001b[0;34m.\u001b[0m\u001b[0mdiscreteVariablesGenerators\u001b[0m \u001b[0;32mimport\u001b[0m \u001b[0mgenerateRandomPermutation\u001b[0m\u001b[0;34m\u001b[0m\u001b[0;34m\u001b[0m\u001b[0m\n\u001b[1;32m      4\u001b[0m \u001b[0;34m\u001b[0m\u001b[0m\n\u001b[1;32m      5\u001b[0m \u001b[0;32mdef\u001b[0m \u001b[0mej1Simulation\u001b[0m\u001b[0;34m(\u001b[0m\u001b[0mnCards\u001b[0m\u001b[0;34m,\u001b[0m\u001b[0mr\u001b[0m\u001b[0;34m)\u001b[0m\u001b[0;34m:\u001b[0m\u001b[0;34m\u001b[0m\u001b[0;34m\u001b[0m\u001b[0m\n",
      "\u001b[0;31mNameError\u001b[0m: name '__file__' is not defined"
     ]
    }
   ],
   "source": [
    "PATH = os.path.join(os.path.split(os.path.dirname(os.path.realpath(os.path.dirname(__file__))))[0],\"discreteVariablesGenerator\")\n",
    "sys.path.insert(1, PATH)\n",
    "from discreteVariablesGenerators.discreteVariablesGenerators import generateRandomPermutation\n",
    "    \n",
    "def ej1Simulation(nCards,r):\n",
    "    nSuccess = 0\n",
    "    a = generateRandomPermutation([i for i in range(nCards)])\n",
    "    for i in range(r):\n",
    "        if i == a[i]:\n",
    "            nSuccess += 1\n",
    "            #print(\"Success with i = {}\".format(i))\n",
    "    return nSuccess\n"
   ]
  },
  {
   "cell_type": "code",
   "execution_count": null,
   "metadata": {},
   "outputs": [],
   "source": [
    "nSim = [100,1000,10000]\n",
    "nCards = 100\n",
    "r = 10\n",
    "means = []\n",
    "var = []\n",
    "for N in nSim:\n",
    "    successList = []\n",
    "    for _ in range(N):\n",
    "        successList.append(ej1Simulation(nCards,nCards))\n",
    "    mean = (sum(successList)/N) \n",
    "    var = (np.var(successList))0\n",
    "    print(\"E[X] for {} iterations is {}\".format(N,mean))\n",
    "    print(\"Var[X] for {} iterations is {}\\n\".format(N,var))"
   ]
  },
  {
   "cell_type": "markdown",
   "metadata": {},
   "source": [
    "## Ejercicio 2\n",
    "Queremos calcular  \n",
    "![](images/ej2p4.jpg)"
   ]
  },
  {
   "cell_type": "code",
   "execution_count": 14,
   "metadata": {},
   "outputs": [],
   "source": [
    "def ej2Simulation(nSim):\n",
    "    suma = 0\n",
    "    for _ in range(nSim):\n",
    "        u = int(random()*10000) + 1\n",
    "        suma += exp(u/10000)\n",
    "    return (suma/nSim)*10000"
   ]
  },
  {
   "cell_type": "code",
   "execution_count": 22,
   "metadata": {},
   "outputs": [
    {
     "data": {
      "text/plain": [
       "16545.482512171962"
      ]
     },
     "execution_count": 22,
     "metadata": {},
     "output_type": "execute_result"
    }
   ],
   "source": [
    "ej2Simulation(100)"
   ]
  },
  {
   "cell_type": "code",
   "execution_count": 12,
   "metadata": {},
   "outputs": [],
   "source": [
    "suma = 0\n",
    "for i in range(10000):\n",
    "    suma += exp(i/10000)"
   ]
  },
  {
   "cell_type": "markdown",
   "metadata": {},
   "source": [
    "## Ejercicio 3\n",
    "Se lanzan simultáneamente un par de dados legales y se anota el resultado de la suma de ambos. El proceso se repite hasta que todos los resultados posibles: 2,3,...,12 hayan aparecido al menos una vez.Estudiar mediante una simulación la variable N, el número de lanzamientos necesarios para cumplir elproceso. Cada lanzamiento implica arrojar el parde dados."
   ]
  },
  {
   "cell_type": "code",
   "execution_count": 36,
   "metadata": {},
   "outputs": [],
   "source": [
    "def ej3simulation():\n",
    "    n = 0 \n",
    "    possibleResults = [0 for i in range(11)]\n",
    "    while not all(possibleResults):\n",
    "        result = randint(1,6) + randint(1,6)\n",
    "        possibleResults[result-2] = 1\n",
    "        n += 1\n",
    "    return n"
   ]
  },
  {
   "cell_type": "code",
   "execution_count": 37,
   "metadata": {},
   "outputs": [
    {
     "name": "stdout",
     "output_type": "stream",
     "text": [
      "The average of numbers of draws needed to complete the process is 60.15 with 100 simulations\n",
      "The average of numbers of draws needed to complete the process is 62.305 with 1000 simulations\n",
      "The average of numbers of draws needed to complete the process is 61.4896 with 10000 simulations\n",
      "The average of numbers of draws needed to complete the process is 61.26456 with 100000 simulations\n"
     ]
    }
   ],
   "source": [
    "nSim = [100,1000,10000,100000]\n",
    "for N in nSim:\n",
    "    n = 0\n",
    "    for _ in range(N):\n",
    "        n += ej3simulation()\n",
    "    print(\"The average of numbers of draws needed to complete the process is {} with {} simulations\".format(n/N,N))        \n",
    "    "
   ]
  },
  {
   "cell_type": "markdown",
   "metadata": {},
   "source": [
    "## Ejercicio 4\n",
    "Una variable aleatoriaXtiene una funcion de probabilidad puntual pi=P(X=i) dada por: \n",
    "p0=0.15 p1=0.20  p2=0.10  p3=0.35  p4=0.20"
   ]
  },
  {
   "cell_type": "code",
   "execution_count": 64,
   "metadata": {},
   "outputs": [],
   "source": [
    "def binomial(n,p):\n",
    "    i = 0\n",
    "    c = p / (1-p)\n",
    "    prob = (1-p)**n\n",
    "    F = prob\n",
    "    U = random()\n",
    "    while U >= F:\n",
    "        prob = c*(n-i)/(i+1) * prob\n",
    "        F += prob\n",
    "        i += 1\n",
    "    return i "
   ]
  },
  {
   "cell_type": "code",
   "execution_count": 70,
   "metadata": {},
   "outputs": [],
   "source": [
    "def tInversaEj4():\n",
    "    u = random()\n",
    "    res = 0\n",
    "    if u < 0.32:\n",
    "        res = 3\n",
    "    elif u < 0.55:\n",
    "        res = 1\n",
    "    elif u < 0.75:\n",
    "        res = 4\n",
    "    elif u < 0.9:\n",
    "        res = 0\n",
    "    elif u >= 9:\n",
    "        res = 1\n",
    "    return res"
   ]
  },
  {
   "cell_type": "code",
   "execution_count": 87,
   "metadata": {},
   "outputs": [],
   "source": [
    "def aceptacionYrechazoEj4(p):\n",
    "    q = [binom.pmf(i,4,0.45) for i in range(len(p))]\n",
    "    c = 0\n",
    "    # We use the optimum c, that is the largest one necessary\n",
    "    for i in range(len(p)):\n",
    "        if (p[i]/q[i]) >= c:\n",
    "            c = p[i]/q[i]    \n",
    "    res = 0\n",
    "    u = random()\n",
    "    y = binomial(4,0.45)\n",
    "    while u < p[y] / c * q[y]:\n",
    "        u = random()\n",
    "        res = y\n",
    "    return res"
   ]
  },
  {
   "cell_type": "code",
   "execution_count": 146,
   "metadata": {},
   "outputs": [],
   "source": [
    "### Comparación de tiempos:\n",
    "n = 100\n",
    "tInversa = [0] * n\n",
    "aceptacionYrechazo = [0] * n\n",
    "p = [0.15,0.2,0.1,0.35,0.2]\n",
    "\n",
    "for u in range(n):\n",
    "    tInversa[u] = timeit(\"tInversaEj4()\", number = 100000, globals = globals())\n",
    "    aceptacionYrechazo[u] = timeit(setup = \"aceptacionYrechazoEj4(p)\", number = 100000, globals = globals())"
   ]
  },
  {
   "cell_type": "code",
   "execution_count": 82,
   "metadata": {},
   "outputs": [
    {
     "data": {
      "text/plain": [
       "Text(0.5, 0.98, 'Comparación de tiempos de corrida')"
      ]
     },
     "execution_count": 82,
     "metadata": {},
     "output_type": "execute_result"
    },
    {
     "data": {
      "image/png": "[encoded data removed]",
      "text/plain": [
       "<Figure size 1080x216 with 1 Axes>"
      ]
     },
     "metadata": {
      "needs_background": "light"
     },
     "output_type": "display_data"
    }
   ],
   "source": [
    "fig, ax = plt.subplots(figsize = (15,3))\n",
    "ax.plot(tInversa, 'r', label = 'transformada inversa')\n",
    "ax.plot(aceptacionYrechazo, 'b', label = 'aceptacion y rechazo')\n",
    "ax.set_xticklabels([str(i/5.) for i in range(6)])\n",
    "ax.set_xticks([i for i in range(0,101,20)])\n",
    "ax.set_xlabel('u')\n",
    "ax.set_ylabel('tiempo por ejecución')\n",
    "\n",
    "ax.legend(loc = 'best')\n",
    "\n",
    "plt.suptitle('Comparación de tiempos de corrida')"
   ]
  },
  {
   "cell_type": "markdown",
   "metadata": {},
   "source": [
    "## Ejercicio 5\n",
    "\n",
    "Implemente tres métodos para generar una variable X que toma los valores del 1 al 10, con probabilidades p1=0.11, p2=0.14, p3=0.09, p4=0.08, p5=0.12, p6=0.10, p7=0.09, p8=0.07, p9=0.11, p10=0.09 usando:"
   ]
  },
  {
   "cell_type": "code",
   "execution_count": 122,
   "metadata": {},
   "outputs": [
    {
     "data": {
      "text/plain": [
       "[0.14, 0.12, 0.11, 0.11, 0.1, 0.09, 0.09, 0.09, 0.08, 0.07]"
      ]
     },
     "execution_count": 122,
     "metadata": {},
     "output_type": "execute_result"
    }
   ],
   "source": [
    "p = [0.11,0.14,0.09,0.08,0.12,0.1,0.09,0.07,0.11,0.09]\n",
    "sorted(p,reverse=True)"
   ]
  },
  {
   "cell_type": "markdown",
   "metadata": {},
   "source": [
    "### Transformada inversa"
   ]
  },
  {
   "cell_type": "code",
   "execution_count": 123,
   "metadata": {},
   "outputs": [],
   "source": [
    "def tInversaEj5(p):\n",
    "    p = sorted(p,reverse=True)\n",
    "    u = random()\n",
    "    if u < sum(p[:1]):\n",
    "        res = 2\n",
    "    elif u < sum(p[:2]):\n",
    "        res = 5\n",
    "    elif u < sum(p[:3]):\n",
    "        res = 1\n",
    "    elif u < sum(p[:4]):\n",
    "        res = 9\n",
    "    elif u < sum(p[:5]):\n",
    "        res = 6\n",
    "    elif u < sum(p[:6]):\n",
    "        res = 3\n",
    "    elif u < sum(p[:7]):\n",
    "        res = 7\n",
    "    elif u < sum(p[:8]):\n",
    "        res = 10\n",
    "    elif u < sum(p[:9]):\n",
    "        res = 4\n",
    "    else:\n",
    "        res = 8\n",
    "    return res"
   ]
  },
  {
   "cell_type": "markdown",
   "metadata": {},
   "source": [
    "### Aceptacion y rechazo"
   ]
  },
  {
   "cell_type": "code",
   "execution_count": 142,
   "metadata": {},
   "outputs": [],
   "source": [
    "def rechazoEj5(p):\n",
    "    n = len(p)\n",
    "    q = [1/n for _ in range(n)]\n",
    "    assert(len(q)==len(p))\n",
    "    c = 1\n",
    "    # We use the optimum c, that is the largest one necessary\n",
    "    for i in range(len(p)):\n",
    "        if (p[i]/q[i]) >= c:\n",
    "            c = p[i]/q[i]    \n",
    "    res = 0\n",
    "    u = random()\n",
    "    y = randint(0,9)\n",
    "    while u < p[y] / c * q[y]:\n",
    "        u = random()\n",
    "        res = y\n",
    "    return res"
   ]
  },
  {
   "cell_type": "markdown",
   "metadata": {},
   "source": [
    "### Método de la urna: \n",
    "utilizar un arreglo A de tamaño 100 donde cada valor i está en exactamente p(i)∗100 posiciones .El método debe devolver A[k] con probabilidad 0.01. ¿Por qué funciona?"
   ]
  },
  {
   "cell_type": "code",
   "execution_count": 143,
   "metadata": {},
   "outputs": [],
   "source": [
    "def metodoUrnaEj5(p):\n",
    "    A = [0] * 100\n",
    "    initPos = 0\n",
    "    for x in range(0,len(p)):\n",
    "        nPositions = int(p[x] * 100)\n",
    "        for j in range(initPos,initPos+nPositions):\n",
    "            A[j] = x\n",
    "        initPos += nPositions\n",
    "    u = randint(0,99)\n",
    "    return A[u]\n",
    "        \n",
    "    "
   ]
  },
  {
   "cell_type": "code",
   "execution_count": 144,
   "metadata": {},
   "outputs": [],
   "source": [
    "### Comparación de tiempos:\n",
    "n = 100\n",
    "tInversa = [0] * n\n",
    "aceptacionYrechazo = [0] * n\n",
    "metodoUrna = [0] * n\n",
    "\n",
    "for u in range(n):\n",
    "    tInversa[u] = timeit(\"tInversaEj4()\", number = 100000, globals = globals())\n",
    "    aceptacionYrechazo[u] = timeit(setup = \"rechazoEj5(p)\", number = 100000, globals = globals())\n",
    "    metodoUrna[u] = timeit(setup = \"metodoUrnaEj5(p)\", number = 100000, globals = globals())"
   ]
  },
  {
   "cell_type": "code",
   "execution_count": 145,
   "metadata": {},
   "outputs": [
    {
     "data": {
      "text/plain": [
       "Text(0.5, 0.98, 'Comparación de tiempos de corrida')"
      ]
     },
     "execution_count": 145,
     "metadata": {},
     "output_type": "execute_result"
    },
    {
     "data": {
      "image/png": "[encoded data removed]",
      "text/plain": [
       "<Figure size 1080x216 with 1 Axes>"
      ]
     },
     "metadata": {
      "needs_background": "light"
     },
     "output_type": "display_data"
    }
   ],
   "source": [
    "fig, ax = plt.subplots(figsize = (15,3))\n",
    "ax.plot(tInversa, 'r', label = 'transformada inversa')\n",
    "ax.plot(aceptacionYrechazo, 'b', label = 'aceptacion y rechazo')\n",
    "ax.plot(metodoUrna,'g',label = 'metodo urna')\n",
    "ax.set_xticklabels([str(i/5.) for i in range(6)])\n",
    "ax.set_xticks([i for i in range(0,101,20)])\n",
    "ax.set_xlabel('u')\n",
    "ax.set_ylabel('tiempo por ejecución')\n",
    "\n",
    "ax.legend(loc = 'best')\n",
    "\n",
    "plt.suptitle('Comparación de tiempos de corrida')"
   ]
  },
  {
   "cell_type": "markdown",
   "metadata": {},
   "source": [
    "## Ejercicio 6\n",
    "Implemente dos métodos para generar una binomial Bin(n,p):  \n",
    "i)  Usando transformada inversa.  \n",
    "ii) Simulando n ensayos con probabilidad de éxito p y contando el número de éxitos.  \n",
    "\n",
    "\n",
    "Para ambos métodos:  \n",
    "- a)  Compare la eficiencia de ambos algoritmos para n=10 y p=0.3, evaluando el tiempo necesario para realizar 10000 simulaciones.  \n",
    "- b)  Estime el valor con mayor ocurrencia y la proporción de veces que se obtuvieron los valores 0 y 10 respectivamente.\n",
    "- c)  Compare estos valores con las probabilidades teóricas de la binomial. Si están alejados, revise el código."
   ]
  },
  {
   "cell_type": "markdown",
   "metadata": {},
   "source": [
    "### Transformada inversa"
   ]
  },
  {
   "cell_type": "code",
   "execution_count": 154,
   "metadata": {},
   "outputs": [],
   "source": [
    "def binomial1(n,p):\n",
    "    'Método de transformada inversa eligiendo p < 0.5'\n",
    "    U = random()\n",
    "    i = 0\n",
    "    reversedP = False\n",
    "    if p > 0.5:\n",
    "        p = 1-p\n",
    "        reversedP = True\n",
    "    c = p / (1-p)\n",
    "    prob = (1-p) ** n\n",
    "    F = prob\n",
    "    while U >= F:\n",
    "        prob = c * (n-i) / (i+1) * prob\n",
    "        F= F + prob \n",
    "        i = i + 1\n",
    "    res = i\n",
    "    if reversedP:\n",
    "        res = n - i\n",
    "    return res"
   ]
  },
  {
   "cell_type": "markdown",
   "metadata": {},
   "source": [
    "### Simulacion"
   ]
  },
  {
   "cell_type": "code",
   "execution_count": 155,
   "metadata": {},
   "outputs": [],
   "source": [
    "def simulationEj6(n,p):\n",
    "    successes = 0\n",
    "    for _ in range(n):\n",
    "        u = random()\n",
    "        if u < p:\n",
    "            successes+=1\n",
    "    return successes\n",
    "        "
   ]
  },
  {
   "cell_type": "code",
   "execution_count": 161,
   "metadata": {},
   "outputs": [],
   "source": [
    "### Comparación de tiempos:\n",
    "N = 100\n",
    "tInversa = [0] * N\n",
    "simulacion = [0] * N\n",
    "n , p = 10, 0.3\n",
    "\n",
    "for u in range(N):\n",
    "    tInversa[u] = timeit(\"binomial1(n,p)\", number = 100000, globals = globals())\n",
    "    simulacion[u] = timeit(setup = \"simulationEj6(n,p)\", number = 100000, globals = globals())\n"
   ]
  },
  {
   "cell_type": "code",
   "execution_count": 162,
   "metadata": {},
   "outputs": [
    {
     "data": {
      "text/plain": [
       "Text(0.5, 0.98, 'Comparación de tiempos de corrida')"
      ]
     },
     "execution_count": 162,
     "metadata": {},
     "output_type": "execute_result"
    },
    {
     "data": {
      "image/png": "[encoded data removed]",
      "text/plain": [
       "<Figure size 1080x216 with 1 Axes>"
      ]
     },
     "metadata": {
      "needs_background": "light"
     },
     "output_type": "display_data"
    }
   ],
   "source": [
    "fig, ax = plt.subplots(figsize = (15,3))\n",
    "ax.plot(tInversa, 'r', label = 'transformada inversa')\n",
    "ax.plot(simulacion, 'b', label = 'simulacion')\n",
    "ax.set_xticklabels([str(i/5.) for i in range(6)])\n",
    "ax.set_xticks([i for i in range(0,101,20)])\n",
    "ax.set_xlabel('u')\n",
    "ax.set_ylabel('tiempo por ejecución')\n",
    "\n",
    "ax.legend(loc = 'best')\n",
    "\n",
    "plt.suptitle('Comparación de tiempos de corrida')"
   ]
  },
  {
   "cell_type": "code",
   "execution_count": 166,
   "metadata": {},
   "outputs": [],
   "source": [
    "N = 10000\n",
    "n , p = 10, 0.3\n",
    "simR = []\n",
    "tInvR = []\n",
    "for _ in range(N):\n",
    "    simR.append(simulationEj6(n,p))\n",
    "    tInvR.append(binomial1(n,p))"
   ]
  },
  {
   "cell_type": "code",
   "execution_count": 167,
   "metadata": {},
   "outputs": [
    {
     "data": {
      "text/plain": [
       "(array([2.790e+02, 1.220e+03, 2.424e+03, 2.711e+03, 1.913e+03, 9.920e+02,\n",
       "        3.540e+02, 9.500e+01, 1.100e+01, 1.000e+00]),\n",
       " array([0. , 0.9, 1.8, 2.7, 3.6, 4.5, 5.4, 6.3, 7.2, 8.1, 9. ]),\n",
       " <a list of 10 Patch objects>)"
      ]
     },
     "execution_count": 167,
     "metadata": {},
     "output_type": "execute_result"
    },
    {
     "data": {
      "image/png": "[encoded data removed]",
      "text/plain": [
       "<Figure size 432x288 with 2 Axes>"
      ]
     },
     "metadata": {
      "needs_background": "light"
     },
     "output_type": "display_data"
    }
   ],
   "source": [
    "n_bins = 10\n",
    "\n",
    "# Generate a normal distribution, center at x=0 and y=5\n",
    "fig, axs = plt.subplots(1, 2, sharey=True, tight_layout=True)\n",
    "\n",
    "# We can set the number of bins with the `bins` kwarg\n",
    "axs[0].hist(simR, bins=n_bins)\n",
    "axs[1].hist(tInvR, bins=n_bins)"
   ]
  },
  {
   "cell_type": "markdown",
   "metadata": {},
   "source": [
    "## Ejercicio 7"
   ]
  },
  {
   "cell_type": "code",
   "execution_count": 168,
   "metadata": {},
   "outputs": [],
   "source": [
    "def Poisson(lamda):\n",
    "    '''Método de transformada inversa'''\n",
    "    U = random() \n",
    "    i = 0; p = exp(-lamda)\n",
    "    F=p\n",
    "    while U >= F:\n",
    "        i += 1        \n",
    "        p *=lamda / i\n",
    "        F = F + p\n",
    "    return i\n",
    "\n",
    "def Poisson_ordenado(L):\n",
    "    I = int(L)\n",
    "    p = exp(-L)\n",
    "    F = p\n",
    "    ## Cálculo de F(I)\n",
    "    for i in range(1,I+1):\n",
    "        p *= L / i\n",
    "        F += p\n",
    "    u=random()\n",
    "    if u>=F: #recorre I, I+1, I+2, ...\n",
    "        while u>F:\n",
    "            I += 1\n",
    "            p *= L/I\n",
    "            F += p\n",
    "        return I\n",
    "    else:\n",
    "        while u < F: #recorre I-1, I-2, ...\n",
    "            F -= p\n",
    "            p *= I / L\n",
    "            I -= 1\n",
    "        return I + 1\n",
    "    \n",
    "def Poisson_con_exp(lamda):\n",
    "    X = 0\n",
    "    Producto = 1 - random()\n",
    "    cota = np.exp(-lamda)\n",
    "    while Producto >= cota:\n",
    "        Producto *= 1- random()\n",
    "        X += 1\n",
    "    return X\n"
   ]
  },
  {
   "cell_type": "markdown",
   "metadata": {},
   "source": [
    "## Ejercicio 8\n",
    "Desarrolle el método de la Trasformada Inversa y el de Rechazo para generar una variable aleatoria X cuya distribución de probabilidad está dada por:  \n",
    "![](images/ej8.jpg)"
   ]
  },
  {
   "cell_type": "code",
   "execution_count": 3,
   "metadata": {},
   "outputs": [],
   "source": [
    "from scipy.stats import binom,poisson\n",
    "def P_x(lamda,k,i):\n",
    "    top = poisson.fmp(i,lamda)\n",
    "    bottom = sum(poisson.pmf(j, lambda_) for j in range(K))\n",
    "    return top/bottom\n",
    "\n",
    "def tInversaEj8(lamda,k):\n",
    "    # Primero tenemos que generar la distribución de probabilidad para cada i:\n",
    "    p_i = {i:P_x(lamda,k,i) for i in range(k)}\n",
    "    # Ordenar los valores para eficiencia\n",
    "    p_i = sorted(p_i.items(), key=lambda x: x[1], reverse=True)\n",
    "    # Ahora hacemos "
   ]
  },
  {
   "cell_type": "code",
   "execution_count": null,
   "metadata": {},
   "outputs": [],
   "source": []
  }
 ],
 "metadata": {
  "kernelspec": {
   "display_name": "Python 3",
   "language": "python",
   "name": "python3"
  },
  "language_info": {
   "codemirror_mode": {
    "name": "ipython",
    "version": 3
   },
   "file_extension": ".py",
   "mimetype": "text/x-python",
   "name": "python",
   "nbconvert_exporter": "python",
   "pygments_lexer": "ipython3",
   "version": "3.7.6"
  }
 },
 "nbformat": 4,
 "nbformat_minor": 4
}
